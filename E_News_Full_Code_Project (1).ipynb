{
  "nbformat": 4,
  "nbformat_minor": 5,
  "metadata": {
    "kernelspec": {
      "display_name": "Python 3",
      "language": "python",
      "name": "python3"
    },
    "language_info": {
      "codemirror_mode": {
        "name": "ipython",
        "version": 3
      },
      "file_extension": ".py",
      "mimetype": "text/x-python",
      "name": "python",
      "nbconvert_exporter": "python",
      "pygments_lexer": "ipython3",
      "version": "3.8.8"
    },
    "colab": {
      "provenance": [],
      "collapsed_sections": [
        "a6a3d218",
        "6970dd99",
        "9d75cfa2",
        "68f3b2c9",
        "fad2de2f",
        "27906576",
        "e5fdf0c8",
        "56b3dafd",
        "c7ee4907",
        "3f58c9a7",
        "5fed2eac",
        "f5c5258d",
        "359b12f8",
        "d9affc84",
        "353e9d24",
        "d49bfa2d",
        "8d585a90"
      ]
    }
  },
  "cells": [
    {
      "cell_type": "markdown",
      "metadata": {
        "id": "6yDxo9u0d9Na"
      },
      "source": [
        "# Project Business Statistics: E-news Express\n",
        "\n",
        "**Marks: 60**"
      ],
      "id": "6yDxo9u0d9Na"
    },
    {
      "cell_type": "markdown",
      "metadata": {
        "id": "SrLd-ICEmPSD"
      },
      "source": [
        "## Define Problem Statement and Objectives"
      ],
      "id": "SrLd-ICEmPSD"
    },
    {
      "cell_type": "markdown",
      "metadata": {
        "id": "9Vt1PLLqmXNn"
      },
      "source": [
        "**The following is a summary of the Business Context and Objective for this project:**\n",
        "\n",
        "**Business Context:**\n",
        "\n",
        "E-news portals offer an opportunity to easily and quickly get updates on the day-to-day events occuring worldwide.\n",
        "The advantage is we can utilize multimedia technologies that traditional newspapers don't offer along with other interactive elements. The data is retrieved electronically from online databases, processed using various softwares and then transmitted to the users.\n",
        "\n",
        "The client -**E-news Express**- aims to expand its business by acquiring new subscribers.The company plans to analyze user website behavior to understand user interestests and to understand how to drive better engagement.\n",
        "However, the executives at E-news Expressthinks there is a decline in new monthly subscribers compared to last year due to the current website landing page not being designed well enough to keep customers engaged and interested enough to subscribe.\n",
        "\n",
        "\n",
        "**Objective**\n",
        "\n",
        "The company decided to do some A/B Testing between the existing and a newly designed landing page. They took 100 random users and divided them equally intwo 2 groups The first control group got the existing landing page and the remaining users were the treatment group and were assigned to the new landing page. Assuming we are data scientists at E-news Express, we are asked to explore the data and perform a statistical analysis (with a significance level at 5%) to determine the effenctivess of the new landing page in gathering new subscribers for the news portal.\n",
        "\n",
        "We're going to do some data and statistical analysis on the resulting data and answer the following 4 questions:\n",
        "\n",
        " 1. Do the users spend more time on the new landing page than on the existing landing page?\n",
        " 2. Is the conversion rate (the proportion of users who visit the landing page and get converted) for the new page greater than the conversion rate for the old page?\n",
        " 3. Does the converted status depend on the preferred language\n",
        " 4. Is the time spent on the new page the same for the different language users?\n",
        "\n",
        "\n",
        "\n",
        "\n",
        "\n",
        "\n",
        "\n",
        "\n",
        "\n",
        "\n",
        "\n",
        "\n",
        "\n"
      ],
      "id": "9Vt1PLLqmXNn"
    },
    {
      "cell_type": "markdown",
      "metadata": {
        "id": "a6a3d218"
      },
      "source": [
        "## Import all the necessary libraries"
      ],
      "id": "a6a3d218"
    },
    {
      "cell_type": "code",
      "metadata": {
        "id": "658c5dec"
      },
      "source": [
        "import numpy as np\n",
        "import pandas as pd\n",
        "from matplotlib import pyplot as plt\n",
        "import seaborn as sns"
      ],
      "id": "658c5dec",
      "execution_count": 336,
      "outputs": []
    },
    {
      "cell_type": "markdown",
      "metadata": {
        "id": "6970dd99"
      },
      "source": [
        "## Reading the Data into a DataFrame"
      ],
      "id": "6970dd99"
    },
    {
      "cell_type": "code",
      "metadata": {
        "id": "d3b95640",
        "colab": {
          "base_uri": "https://localhost:8080/"
        },
        "outputId": "570e70f4-e43e-4c48-cb08-8e576053f0ad"
      },
      "source": [
        "from google.colab import drive\n",
        "drive.mount('/content/drive')\n",
        "df = pd.read_csv('/content/drive/MyDrive/abtest.csv')"
      ],
      "id": "d3b95640",
      "execution_count": 337,
      "outputs": [
        {
          "output_type": "stream",
          "name": "stdout",
          "text": [
            "Drive already mounted at /content/drive; to attempt to forcibly remount, call drive.mount(\"/content/drive\", force_remount=True).\n"
          ]
        }
      ]
    },
    {
      "cell_type": "markdown",
      "metadata": {
        "id": "9d75cfa2"
      },
      "source": [
        "## Explore the dataset and extract insights using Exploratory Data Analysis"
      ],
      "id": "9d75cfa2"
    },
    {
      "cell_type": "markdown",
      "metadata": {
        "id": "27201534"
      },
      "source": [
        "- Data Overview\n",
        "  - Viewing the first and last few rows of the dataset\n",
        "  - Checking the shape of the dataset\n",
        "  - Getting the statistical summary for the variables\n",
        "- Check for missing values\n",
        "- Check for duplicates"
      ],
      "id": "27201534"
    },
    {
      "cell_type": "code",
      "metadata": {
        "id": "e1ad11d4",
        "colab": {
          "base_uri": "https://localhost:8080/",
          "height": 0
        },
        "outputId": "6971f96e-5b3a-4c76-d80d-f7663fbce225"
      },
      "source": [
        "#Viewing the first rows of the dataset\n",
        "df.head()\n"
      ],
      "id": "e1ad11d4",
      "execution_count": 338,
      "outputs": [
        {
          "output_type": "execute_result",
          "data": {
            "text/plain": [
              "   user_id      group landing_page  time_spent_on_the_page converted  \\\n",
              "0   546592    control          old                    3.48        no   \n",
              "1   546468  treatment          new                    7.13       yes   \n",
              "2   546462  treatment          new                    4.40        no   \n",
              "3   546567    control          old                    3.02        no   \n",
              "4   546459  treatment          new                    4.75       yes   \n",
              "\n",
              "  language_preferred  \n",
              "0            Spanish  \n",
              "1            English  \n",
              "2            Spanish  \n",
              "3             French  \n",
              "4            Spanish  "
            ],
            "text/html": [
              "\n",
              "  <div id=\"df-bb1f0ce7-0b57-4fd5-9db5-47c8597c82e7\" class=\"colab-df-container\">\n",
              "    <div>\n",
              "<style scoped>\n",
              "    .dataframe tbody tr th:only-of-type {\n",
              "        vertical-align: middle;\n",
              "    }\n",
              "\n",
              "    .dataframe tbody tr th {\n",
              "        vertical-align: top;\n",
              "    }\n",
              "\n",
              "    .dataframe thead th {\n",
              "        text-align: right;\n",
              "    }\n",
              "</style>\n",
              "<table border=\"1\" class=\"dataframe\">\n",
              "  <thead>\n",
              "    <tr style=\"text-align: right;\">\n",
              "      <th></th>\n",
              "      <th>user_id</th>\n",
              "      <th>group</th>\n",
              "      <th>landing_page</th>\n",
              "      <th>time_spent_on_the_page</th>\n",
              "      <th>converted</th>\n",
              "      <th>language_preferred</th>\n",
              "    </tr>\n",
              "  </thead>\n",
              "  <tbody>\n",
              "    <tr>\n",
              "      <th>0</th>\n",
              "      <td>546592</td>\n",
              "      <td>control</td>\n",
              "      <td>old</td>\n",
              "      <td>3.48</td>\n",
              "      <td>no</td>\n",
              "      <td>Spanish</td>\n",
              "    </tr>\n",
              "    <tr>\n",
              "      <th>1</th>\n",
              "      <td>546468</td>\n",
              "      <td>treatment</td>\n",
              "      <td>new</td>\n",
              "      <td>7.13</td>\n",
              "      <td>yes</td>\n",
              "      <td>English</td>\n",
              "    </tr>\n",
              "    <tr>\n",
              "      <th>2</th>\n",
              "      <td>546462</td>\n",
              "      <td>treatment</td>\n",
              "      <td>new</td>\n",
              "      <td>4.40</td>\n",
              "      <td>no</td>\n",
              "      <td>Spanish</td>\n",
              "    </tr>\n",
              "    <tr>\n",
              "      <th>3</th>\n",
              "      <td>546567</td>\n",
              "      <td>control</td>\n",
              "      <td>old</td>\n",
              "      <td>3.02</td>\n",
              "      <td>no</td>\n",
              "      <td>French</td>\n",
              "    </tr>\n",
              "    <tr>\n",
              "      <th>4</th>\n",
              "      <td>546459</td>\n",
              "      <td>treatment</td>\n",
              "      <td>new</td>\n",
              "      <td>4.75</td>\n",
              "      <td>yes</td>\n",
              "      <td>Spanish</td>\n",
              "    </tr>\n",
              "  </tbody>\n",
              "</table>\n",
              "</div>\n",
              "    <div class=\"colab-df-buttons\">\n",
              "\n",
              "  <div class=\"colab-df-container\">\n",
              "    <button class=\"colab-df-convert\" onclick=\"convertToInteractive('df-bb1f0ce7-0b57-4fd5-9db5-47c8597c82e7')\"\n",
              "            title=\"Convert this dataframe to an interactive table.\"\n",
              "            style=\"display:none;\">\n",
              "\n",
              "  <svg xmlns=\"http://www.w3.org/2000/svg\" height=\"24px\" viewBox=\"0 -960 960 960\">\n",
              "    <path d=\"M120-120v-720h720v720H120Zm60-500h600v-160H180v160Zm220 220h160v-160H400v160Zm0 220h160v-160H400v160ZM180-400h160v-160H180v160Zm440 0h160v-160H620v160ZM180-180h160v-160H180v160Zm440 0h160v-160H620v160Z\"/>\n",
              "  </svg>\n",
              "    </button>\n",
              "\n",
              "  <style>\n",
              "    .colab-df-container {\n",
              "      display:flex;\n",
              "      gap: 12px;\n",
              "    }\n",
              "\n",
              "    .colab-df-convert {\n",
              "      background-color: #E8F0FE;\n",
              "      border: none;\n",
              "      border-radius: 50%;\n",
              "      cursor: pointer;\n",
              "      display: none;\n",
              "      fill: #1967D2;\n",
              "      height: 32px;\n",
              "      padding: 0 0 0 0;\n",
              "      width: 32px;\n",
              "    }\n",
              "\n",
              "    .colab-df-convert:hover {\n",
              "      background-color: #E2EBFA;\n",
              "      box-shadow: 0px 1px 2px rgba(60, 64, 67, 0.3), 0px 1px 3px 1px rgba(60, 64, 67, 0.15);\n",
              "      fill: #174EA6;\n",
              "    }\n",
              "\n",
              "    .colab-df-buttons div {\n",
              "      margin-bottom: 4px;\n",
              "    }\n",
              "\n",
              "    [theme=dark] .colab-df-convert {\n",
              "      background-color: #3B4455;\n",
              "      fill: #D2E3FC;\n",
              "    }\n",
              "\n",
              "    [theme=dark] .colab-df-convert:hover {\n",
              "      background-color: #434B5C;\n",
              "      box-shadow: 0px 1px 3px 1px rgba(0, 0, 0, 0.15);\n",
              "      filter: drop-shadow(0px 1px 2px rgba(0, 0, 0, 0.3));\n",
              "      fill: #FFFFFF;\n",
              "    }\n",
              "  </style>\n",
              "\n",
              "    <script>\n",
              "      const buttonEl =\n",
              "        document.querySelector('#df-bb1f0ce7-0b57-4fd5-9db5-47c8597c82e7 button.colab-df-convert');\n",
              "      buttonEl.style.display =\n",
              "        google.colab.kernel.accessAllowed ? 'block' : 'none';\n",
              "\n",
              "      async function convertToInteractive(key) {\n",
              "        const element = document.querySelector('#df-bb1f0ce7-0b57-4fd5-9db5-47c8597c82e7');\n",
              "        const dataTable =\n",
              "          await google.colab.kernel.invokeFunction('convertToInteractive',\n",
              "                                                    [key], {});\n",
              "        if (!dataTable) return;\n",
              "\n",
              "        const docLinkHtml = 'Like what you see? Visit the ' +\n",
              "          '<a target=\"_blank\" href=https://colab.research.google.com/notebooks/data_table.ipynb>data table notebook</a>'\n",
              "          + ' to learn more about interactive tables.';\n",
              "        element.innerHTML = '';\n",
              "        dataTable['output_type'] = 'display_data';\n",
              "        await google.colab.output.renderOutput(dataTable, element);\n",
              "        const docLink = document.createElement('div');\n",
              "        docLink.innerHTML = docLinkHtml;\n",
              "        element.appendChild(docLink);\n",
              "      }\n",
              "    </script>\n",
              "  </div>\n",
              "\n",
              "\n",
              "<div id=\"df-8c4b9a46-1a7f-4acf-9b2c-38a04208beb3\">\n",
              "  <button class=\"colab-df-quickchart\" onclick=\"quickchart('df-8c4b9a46-1a7f-4acf-9b2c-38a04208beb3')\"\n",
              "            title=\"Suggest charts\"\n",
              "            style=\"display:none;\">\n",
              "\n",
              "<svg xmlns=\"http://www.w3.org/2000/svg\" height=\"24px\"viewBox=\"0 0 24 24\"\n",
              "     width=\"24px\">\n",
              "    <g>\n",
              "        <path d=\"M19 3H5c-1.1 0-2 .9-2 2v14c0 1.1.9 2 2 2h14c1.1 0 2-.9 2-2V5c0-1.1-.9-2-2-2zM9 17H7v-7h2v7zm4 0h-2V7h2v10zm4 0h-2v-4h2v4z\"/>\n",
              "    </g>\n",
              "</svg>\n",
              "  </button>\n",
              "\n",
              "<style>\n",
              "  .colab-df-quickchart {\n",
              "      --bg-color: #E8F0FE;\n",
              "      --fill-color: #1967D2;\n",
              "      --hover-bg-color: #E2EBFA;\n",
              "      --hover-fill-color: #174EA6;\n",
              "      --disabled-fill-color: #AAA;\n",
              "      --disabled-bg-color: #DDD;\n",
              "  }\n",
              "\n",
              "  [theme=dark] .colab-df-quickchart {\n",
              "      --bg-color: #3B4455;\n",
              "      --fill-color: #D2E3FC;\n",
              "      --hover-bg-color: #434B5C;\n",
              "      --hover-fill-color: #FFFFFF;\n",
              "      --disabled-bg-color: #3B4455;\n",
              "      --disabled-fill-color: #666;\n",
              "  }\n",
              "\n",
              "  .colab-df-quickchart {\n",
              "    background-color: var(--bg-color);\n",
              "    border: none;\n",
              "    border-radius: 50%;\n",
              "    cursor: pointer;\n",
              "    display: none;\n",
              "    fill: var(--fill-color);\n",
              "    height: 32px;\n",
              "    padding: 0;\n",
              "    width: 32px;\n",
              "  }\n",
              "\n",
              "  .colab-df-quickchart:hover {\n",
              "    background-color: var(--hover-bg-color);\n",
              "    box-shadow: 0 1px 2px rgba(60, 64, 67, 0.3), 0 1px 3px 1px rgba(60, 64, 67, 0.15);\n",
              "    fill: var(--button-hover-fill-color);\n",
              "  }\n",
              "\n",
              "  .colab-df-quickchart-complete:disabled,\n",
              "  .colab-df-quickchart-complete:disabled:hover {\n",
              "    background-color: var(--disabled-bg-color);\n",
              "    fill: var(--disabled-fill-color);\n",
              "    box-shadow: none;\n",
              "  }\n",
              "\n",
              "  .colab-df-spinner {\n",
              "    border: 2px solid var(--fill-color);\n",
              "    border-color: transparent;\n",
              "    border-bottom-color: var(--fill-color);\n",
              "    animation:\n",
              "      spin 1s steps(1) infinite;\n",
              "  }\n",
              "\n",
              "  @keyframes spin {\n",
              "    0% {\n",
              "      border-color: transparent;\n",
              "      border-bottom-color: var(--fill-color);\n",
              "      border-left-color: var(--fill-color);\n",
              "    }\n",
              "    20% {\n",
              "      border-color: transparent;\n",
              "      border-left-color: var(--fill-color);\n",
              "      border-top-color: var(--fill-color);\n",
              "    }\n",
              "    30% {\n",
              "      border-color: transparent;\n",
              "      border-left-color: var(--fill-color);\n",
              "      border-top-color: var(--fill-color);\n",
              "      border-right-color: var(--fill-color);\n",
              "    }\n",
              "    40% {\n",
              "      border-color: transparent;\n",
              "      border-right-color: var(--fill-color);\n",
              "      border-top-color: var(--fill-color);\n",
              "    }\n",
              "    60% {\n",
              "      border-color: transparent;\n",
              "      border-right-color: var(--fill-color);\n",
              "    }\n",
              "    80% {\n",
              "      border-color: transparent;\n",
              "      border-right-color: var(--fill-color);\n",
              "      border-bottom-color: var(--fill-color);\n",
              "    }\n",
              "    90% {\n",
              "      border-color: transparent;\n",
              "      border-bottom-color: var(--fill-color);\n",
              "    }\n",
              "  }\n",
              "</style>\n",
              "\n",
              "  <script>\n",
              "    async function quickchart(key) {\n",
              "      const quickchartButtonEl =\n",
              "        document.querySelector('#' + key + ' button');\n",
              "      quickchartButtonEl.disabled = true;  // To prevent multiple clicks.\n",
              "      quickchartButtonEl.classList.add('colab-df-spinner');\n",
              "      try {\n",
              "        const charts = await google.colab.kernel.invokeFunction(\n",
              "            'suggestCharts', [key], {});\n",
              "      } catch (error) {\n",
              "        console.error('Error during call to suggestCharts:', error);\n",
              "      }\n",
              "      quickchartButtonEl.classList.remove('colab-df-spinner');\n",
              "      quickchartButtonEl.classList.add('colab-df-quickchart-complete');\n",
              "    }\n",
              "    (() => {\n",
              "      let quickchartButtonEl =\n",
              "        document.querySelector('#df-8c4b9a46-1a7f-4acf-9b2c-38a04208beb3 button');\n",
              "      quickchartButtonEl.style.display =\n",
              "        google.colab.kernel.accessAllowed ? 'block' : 'none';\n",
              "    })();\n",
              "  </script>\n",
              "</div>\n",
              "\n",
              "    </div>\n",
              "  </div>\n"
            ],
            "application/vnd.google.colaboratory.intrinsic+json": {
              "type": "dataframe",
              "variable_name": "df",
              "summary": "{\n  \"name\": \"df\",\n  \"rows\": 100,\n  \"fields\": [\n    {\n      \"column\": \"user_id\",\n      \"properties\": {\n        \"dtype\": \"number\",\n        \"std\": 52,\n        \"min\": 546443,\n        \"max\": 546592,\n        \"num_unique_values\": 100,\n        \"samples\": [\n          546580,\n          546576,\n          546568\n        ],\n        \"semantic_type\": \"\",\n        \"description\": \"\"\n      }\n    },\n    {\n      \"column\": \"group\",\n      \"properties\": {\n        \"dtype\": \"category\",\n        \"num_unique_values\": 2,\n        \"samples\": [\n          \"treatment\",\n          \"control\"\n        ],\n        \"semantic_type\": \"\",\n        \"description\": \"\"\n      }\n    },\n    {\n      \"column\": \"landing_page\",\n      \"properties\": {\n        \"dtype\": \"category\",\n        \"num_unique_values\": 2,\n        \"samples\": [\n          \"new\",\n          \"old\"\n        ],\n        \"semantic_type\": \"\",\n        \"description\": \"\"\n      }\n    },\n    {\n      \"column\": \"time_spent_on_the_page\",\n      \"properties\": {\n        \"dtype\": \"number\",\n        \"std\": 2.378166078933492,\n        \"min\": 0.19,\n        \"max\": 10.71,\n        \"num_unique_values\": 94,\n        \"samples\": [\n          8.46,\n          3.65\n        ],\n        \"semantic_type\": \"\",\n        \"description\": \"\"\n      }\n    },\n    {\n      \"column\": \"converted\",\n      \"properties\": {\n        \"dtype\": \"category\",\n        \"num_unique_values\": 2,\n        \"samples\": [\n          \"yes\",\n          \"no\"\n        ],\n        \"semantic_type\": \"\",\n        \"description\": \"\"\n      }\n    },\n    {\n      \"column\": \"language_preferred\",\n      \"properties\": {\n        \"dtype\": \"category\",\n        \"num_unique_values\": 3,\n        \"samples\": [\n          \"Spanish\",\n          \"English\"\n        ],\n        \"semantic_type\": \"\",\n        \"description\": \"\"\n      }\n    }\n  ]\n}"
            }
          },
          "metadata": {},
          "execution_count": 338
        }
      ]
    },
    {
      "cell_type": "code",
      "source": [
        "#Viewing the last rows of the data set\n",
        "df.tail()"
      ],
      "metadata": {
        "colab": {
          "base_uri": "https://localhost:8080/",
          "height": 0
        },
        "id": "FVe8BdBMBdbi",
        "outputId": "9262c545-5ee7-4d98-cb24-565d96e3daef"
      },
      "id": "FVe8BdBMBdbi",
      "execution_count": 339,
      "outputs": [
        {
          "output_type": "execute_result",
          "data": {
            "text/plain": [
              "    user_id      group landing_page  time_spent_on_the_page converted  \\\n",
              "95   546446  treatment          new                    5.15        no   \n",
              "96   546544    control          old                    6.52       yes   \n",
              "97   546472  treatment          new                    7.07       yes   \n",
              "98   546481  treatment          new                    6.20       yes   \n",
              "99   546483  treatment          new                    5.86       yes   \n",
              "\n",
              "   language_preferred  \n",
              "95            Spanish  \n",
              "96            English  \n",
              "97            Spanish  \n",
              "98            Spanish  \n",
              "99            English  "
            ],
            "text/html": [
              "\n",
              "  <div id=\"df-de713ece-8e6d-495c-92bb-21ce57744b00\" class=\"colab-df-container\">\n",
              "    <div>\n",
              "<style scoped>\n",
              "    .dataframe tbody tr th:only-of-type {\n",
              "        vertical-align: middle;\n",
              "    }\n",
              "\n",
              "    .dataframe tbody tr th {\n",
              "        vertical-align: top;\n",
              "    }\n",
              "\n",
              "    .dataframe thead th {\n",
              "        text-align: right;\n",
              "    }\n",
              "</style>\n",
              "<table border=\"1\" class=\"dataframe\">\n",
              "  <thead>\n",
              "    <tr style=\"text-align: right;\">\n",
              "      <th></th>\n",
              "      <th>user_id</th>\n",
              "      <th>group</th>\n",
              "      <th>landing_page</th>\n",
              "      <th>time_spent_on_the_page</th>\n",
              "      <th>converted</th>\n",
              "      <th>language_preferred</th>\n",
              "    </tr>\n",
              "  </thead>\n",
              "  <tbody>\n",
              "    <tr>\n",
              "      <th>95</th>\n",
              "      <td>546446</td>\n",
              "      <td>treatment</td>\n",
              "      <td>new</td>\n",
              "      <td>5.15</td>\n",
              "      <td>no</td>\n",
              "      <td>Spanish</td>\n",
              "    </tr>\n",
              "    <tr>\n",
              "      <th>96</th>\n",
              "      <td>546544</td>\n",
              "      <td>control</td>\n",
              "      <td>old</td>\n",
              "      <td>6.52</td>\n",
              "      <td>yes</td>\n",
              "      <td>English</td>\n",
              "    </tr>\n",
              "    <tr>\n",
              "      <th>97</th>\n",
              "      <td>546472</td>\n",
              "      <td>treatment</td>\n",
              "      <td>new</td>\n",
              "      <td>7.07</td>\n",
              "      <td>yes</td>\n",
              "      <td>Spanish</td>\n",
              "    </tr>\n",
              "    <tr>\n",
              "      <th>98</th>\n",
              "      <td>546481</td>\n",
              "      <td>treatment</td>\n",
              "      <td>new</td>\n",
              "      <td>6.20</td>\n",
              "      <td>yes</td>\n",
              "      <td>Spanish</td>\n",
              "    </tr>\n",
              "    <tr>\n",
              "      <th>99</th>\n",
              "      <td>546483</td>\n",
              "      <td>treatment</td>\n",
              "      <td>new</td>\n",
              "      <td>5.86</td>\n",
              "      <td>yes</td>\n",
              "      <td>English</td>\n",
              "    </tr>\n",
              "  </tbody>\n",
              "</table>\n",
              "</div>\n",
              "    <div class=\"colab-df-buttons\">\n",
              "\n",
              "  <div class=\"colab-df-container\">\n",
              "    <button class=\"colab-df-convert\" onclick=\"convertToInteractive('df-de713ece-8e6d-495c-92bb-21ce57744b00')\"\n",
              "            title=\"Convert this dataframe to an interactive table.\"\n",
              "            style=\"display:none;\">\n",
              "\n",
              "  <svg xmlns=\"http://www.w3.org/2000/svg\" height=\"24px\" viewBox=\"0 -960 960 960\">\n",
              "    <path d=\"M120-120v-720h720v720H120Zm60-500h600v-160H180v160Zm220 220h160v-160H400v160Zm0 220h160v-160H400v160ZM180-400h160v-160H180v160Zm440 0h160v-160H620v160ZM180-180h160v-160H180v160Zm440 0h160v-160H620v160Z\"/>\n",
              "  </svg>\n",
              "    </button>\n",
              "\n",
              "  <style>\n",
              "    .colab-df-container {\n",
              "      display:flex;\n",
              "      gap: 12px;\n",
              "    }\n",
              "\n",
              "    .colab-df-convert {\n",
              "      background-color: #E8F0FE;\n",
              "      border: none;\n",
              "      border-radius: 50%;\n",
              "      cursor: pointer;\n",
              "      display: none;\n",
              "      fill: #1967D2;\n",
              "      height: 32px;\n",
              "      padding: 0 0 0 0;\n",
              "      width: 32px;\n",
              "    }\n",
              "\n",
              "    .colab-df-convert:hover {\n",
              "      background-color: #E2EBFA;\n",
              "      box-shadow: 0px 1px 2px rgba(60, 64, 67, 0.3), 0px 1px 3px 1px rgba(60, 64, 67, 0.15);\n",
              "      fill: #174EA6;\n",
              "    }\n",
              "\n",
              "    .colab-df-buttons div {\n",
              "      margin-bottom: 4px;\n",
              "    }\n",
              "\n",
              "    [theme=dark] .colab-df-convert {\n",
              "      background-color: #3B4455;\n",
              "      fill: #D2E3FC;\n",
              "    }\n",
              "\n",
              "    [theme=dark] .colab-df-convert:hover {\n",
              "      background-color: #434B5C;\n",
              "      box-shadow: 0px 1px 3px 1px rgba(0, 0, 0, 0.15);\n",
              "      filter: drop-shadow(0px 1px 2px rgba(0, 0, 0, 0.3));\n",
              "      fill: #FFFFFF;\n",
              "    }\n",
              "  </style>\n",
              "\n",
              "    <script>\n",
              "      const buttonEl =\n",
              "        document.querySelector('#df-de713ece-8e6d-495c-92bb-21ce57744b00 button.colab-df-convert');\n",
              "      buttonEl.style.display =\n",
              "        google.colab.kernel.accessAllowed ? 'block' : 'none';\n",
              "\n",
              "      async function convertToInteractive(key) {\n",
              "        const element = document.querySelector('#df-de713ece-8e6d-495c-92bb-21ce57744b00');\n",
              "        const dataTable =\n",
              "          await google.colab.kernel.invokeFunction('convertToInteractive',\n",
              "                                                    [key], {});\n",
              "        if (!dataTable) return;\n",
              "\n",
              "        const docLinkHtml = 'Like what you see? Visit the ' +\n",
              "          '<a target=\"_blank\" href=https://colab.research.google.com/notebooks/data_table.ipynb>data table notebook</a>'\n",
              "          + ' to learn more about interactive tables.';\n",
              "        element.innerHTML = '';\n",
              "        dataTable['output_type'] = 'display_data';\n",
              "        await google.colab.output.renderOutput(dataTable, element);\n",
              "        const docLink = document.createElement('div');\n",
              "        docLink.innerHTML = docLinkHtml;\n",
              "        element.appendChild(docLink);\n",
              "      }\n",
              "    </script>\n",
              "  </div>\n",
              "\n",
              "\n",
              "<div id=\"df-8d4f320b-94c2-485f-b476-942fbeb8279a\">\n",
              "  <button class=\"colab-df-quickchart\" onclick=\"quickchart('df-8d4f320b-94c2-485f-b476-942fbeb8279a')\"\n",
              "            title=\"Suggest charts\"\n",
              "            style=\"display:none;\">\n",
              "\n",
              "<svg xmlns=\"http://www.w3.org/2000/svg\" height=\"24px\"viewBox=\"0 0 24 24\"\n",
              "     width=\"24px\">\n",
              "    <g>\n",
              "        <path d=\"M19 3H5c-1.1 0-2 .9-2 2v14c0 1.1.9 2 2 2h14c1.1 0 2-.9 2-2V5c0-1.1-.9-2-2-2zM9 17H7v-7h2v7zm4 0h-2V7h2v10zm4 0h-2v-4h2v4z\"/>\n",
              "    </g>\n",
              "</svg>\n",
              "  </button>\n",
              "\n",
              "<style>\n",
              "  .colab-df-quickchart {\n",
              "      --bg-color: #E8F0FE;\n",
              "      --fill-color: #1967D2;\n",
              "      --hover-bg-color: #E2EBFA;\n",
              "      --hover-fill-color: #174EA6;\n",
              "      --disabled-fill-color: #AAA;\n",
              "      --disabled-bg-color: #DDD;\n",
              "  }\n",
              "\n",
              "  [theme=dark] .colab-df-quickchart {\n",
              "      --bg-color: #3B4455;\n",
              "      --fill-color: #D2E3FC;\n",
              "      --hover-bg-color: #434B5C;\n",
              "      --hover-fill-color: #FFFFFF;\n",
              "      --disabled-bg-color: #3B4455;\n",
              "      --disabled-fill-color: #666;\n",
              "  }\n",
              "\n",
              "  .colab-df-quickchart {\n",
              "    background-color: var(--bg-color);\n",
              "    border: none;\n",
              "    border-radius: 50%;\n",
              "    cursor: pointer;\n",
              "    display: none;\n",
              "    fill: var(--fill-color);\n",
              "    height: 32px;\n",
              "    padding: 0;\n",
              "    width: 32px;\n",
              "  }\n",
              "\n",
              "  .colab-df-quickchart:hover {\n",
              "    background-color: var(--hover-bg-color);\n",
              "    box-shadow: 0 1px 2px rgba(60, 64, 67, 0.3), 0 1px 3px 1px rgba(60, 64, 67, 0.15);\n",
              "    fill: var(--button-hover-fill-color);\n",
              "  }\n",
              "\n",
              "  .colab-df-quickchart-complete:disabled,\n",
              "  .colab-df-quickchart-complete:disabled:hover {\n",
              "    background-color: var(--disabled-bg-color);\n",
              "    fill: var(--disabled-fill-color);\n",
              "    box-shadow: none;\n",
              "  }\n",
              "\n",
              "  .colab-df-spinner {\n",
              "    border: 2px solid var(--fill-color);\n",
              "    border-color: transparent;\n",
              "    border-bottom-color: var(--fill-color);\n",
              "    animation:\n",
              "      spin 1s steps(1) infinite;\n",
              "  }\n",
              "\n",
              "  @keyframes spin {\n",
              "    0% {\n",
              "      border-color: transparent;\n",
              "      border-bottom-color: var(--fill-color);\n",
              "      border-left-color: var(--fill-color);\n",
              "    }\n",
              "    20% {\n",
              "      border-color: transparent;\n",
              "      border-left-color: var(--fill-color);\n",
              "      border-top-color: var(--fill-color);\n",
              "    }\n",
              "    30% {\n",
              "      border-color: transparent;\n",
              "      border-left-color: var(--fill-color);\n",
              "      border-top-color: var(--fill-color);\n",
              "      border-right-color: var(--fill-color);\n",
              "    }\n",
              "    40% {\n",
              "      border-color: transparent;\n",
              "      border-right-color: var(--fill-color);\n",
              "      border-top-color: var(--fill-color);\n",
              "    }\n",
              "    60% {\n",
              "      border-color: transparent;\n",
              "      border-right-color: var(--fill-color);\n",
              "    }\n",
              "    80% {\n",
              "      border-color: transparent;\n",
              "      border-right-color: var(--fill-color);\n",
              "      border-bottom-color: var(--fill-color);\n",
              "    }\n",
              "    90% {\n",
              "      border-color: transparent;\n",
              "      border-bottom-color: var(--fill-color);\n",
              "    }\n",
              "  }\n",
              "</style>\n",
              "\n",
              "  <script>\n",
              "    async function quickchart(key) {\n",
              "      const quickchartButtonEl =\n",
              "        document.querySelector('#' + key + ' button');\n",
              "      quickchartButtonEl.disabled = true;  // To prevent multiple clicks.\n",
              "      quickchartButtonEl.classList.add('colab-df-spinner');\n",
              "      try {\n",
              "        const charts = await google.colab.kernel.invokeFunction(\n",
              "            'suggestCharts', [key], {});\n",
              "      } catch (error) {\n",
              "        console.error('Error during call to suggestCharts:', error);\n",
              "      }\n",
              "      quickchartButtonEl.classList.remove('colab-df-spinner');\n",
              "      quickchartButtonEl.classList.add('colab-df-quickchart-complete');\n",
              "    }\n",
              "    (() => {\n",
              "      let quickchartButtonEl =\n",
              "        document.querySelector('#df-8d4f320b-94c2-485f-b476-942fbeb8279a button');\n",
              "      quickchartButtonEl.style.display =\n",
              "        google.colab.kernel.accessAllowed ? 'block' : 'none';\n",
              "    })();\n",
              "  </script>\n",
              "</div>\n",
              "\n",
              "    </div>\n",
              "  </div>\n"
            ],
            "application/vnd.google.colaboratory.intrinsic+json": {
              "type": "dataframe",
              "summary": "{\n  \"name\": \"df\",\n  \"rows\": 5,\n  \"fields\": [\n    {\n      \"column\": \"user_id\",\n      \"properties\": {\n        \"dtype\": \"number\",\n        \"std\": 36,\n        \"min\": 546446,\n        \"max\": 546544,\n        \"num_unique_values\": 5,\n        \"samples\": [\n          546544,\n          546483,\n          546472\n        ],\n        \"semantic_type\": \"\",\n        \"description\": \"\"\n      }\n    },\n    {\n      \"column\": \"group\",\n      \"properties\": {\n        \"dtype\": \"category\",\n        \"num_unique_values\": 2,\n        \"samples\": [\n          \"control\",\n          \"treatment\"\n        ],\n        \"semantic_type\": \"\",\n        \"description\": \"\"\n      }\n    },\n    {\n      \"column\": \"landing_page\",\n      \"properties\": {\n        \"dtype\": \"category\",\n        \"num_unique_values\": 2,\n        \"samples\": [\n          \"old\",\n          \"new\"\n        ],\n        \"semantic_type\": \"\",\n        \"description\": \"\"\n      }\n    },\n    {\n      \"column\": \"time_spent_on_the_page\",\n      \"properties\": {\n        \"dtype\": \"number\",\n        \"std\": 0.7192704637339141,\n        \"min\": 5.15,\n        \"max\": 7.07,\n        \"num_unique_values\": 5,\n        \"samples\": [\n          6.52,\n          5.86\n        ],\n        \"semantic_type\": \"\",\n        \"description\": \"\"\n      }\n    },\n    {\n      \"column\": \"converted\",\n      \"properties\": {\n        \"dtype\": \"category\",\n        \"num_unique_values\": 2,\n        \"samples\": [\n          \"yes\",\n          \"no\"\n        ],\n        \"semantic_type\": \"\",\n        \"description\": \"\"\n      }\n    },\n    {\n      \"column\": \"language_preferred\",\n      \"properties\": {\n        \"dtype\": \"category\",\n        \"num_unique_values\": 2,\n        \"samples\": [\n          \"English\",\n          \"Spanish\"\n        ],\n        \"semantic_type\": \"\",\n        \"description\": \"\"\n      }\n    }\n  ]\n}"
            }
          },
          "metadata": {},
          "execution_count": 339
        }
      ]
    },
    {
      "cell_type": "code",
      "source": [
        "#Shape of the dataset\n",
        "df.shape"
      ],
      "metadata": {
        "colab": {
          "base_uri": "https://localhost:8080/"
        },
        "id": "9yZ34wIuoBKM",
        "outputId": "2d954065-0ab4-4489-f486-1814dcef0586"
      },
      "id": "9yZ34wIuoBKM",
      "execution_count": 340,
      "outputs": [
        {
          "output_type": "execute_result",
          "data": {
            "text/plain": [
              "(100, 6)"
            ]
          },
          "metadata": {},
          "execution_count": 340
        }
      ]
    },
    {
      "cell_type": "markdown",
      "source": [
        "    Observations:\n",
        "      * There are 100 records and 6 columns in this dataframe."
      ],
      "metadata": {
        "id": "RFIDL7SQGj6K"
      },
      "id": "RFIDL7SQGj6K"
    },
    {
      "cell_type": "code",
      "source": [
        "#Getting the statistical summary of the summary\n",
        "df.describe(include='all')"
      ],
      "metadata": {
        "colab": {
          "base_uri": "https://localhost:8080/",
          "height": 0
        },
        "id": "fgtDf2MiBozq",
        "outputId": "d76bef68-1896-43c4-cf2a-6ce39d7fbf8b"
      },
      "id": "fgtDf2MiBozq",
      "execution_count": 341,
      "outputs": [
        {
          "output_type": "execute_result",
          "data": {
            "text/plain": [
              "              user_id    group landing_page  time_spent_on_the_page converted  \\\n",
              "count      100.000000      100          100              100.000000       100   \n",
              "unique            NaN        2            2                     NaN         2   \n",
              "top               NaN  control          old                     NaN       yes   \n",
              "freq              NaN       50           50                     NaN        54   \n",
              "mean    546517.000000      NaN          NaN                5.377800       NaN   \n",
              "std         52.295779      NaN          NaN                2.378166       NaN   \n",
              "min     546443.000000      NaN          NaN                0.190000       NaN   \n",
              "25%     546467.750000      NaN          NaN                3.880000       NaN   \n",
              "50%     546492.500000      NaN          NaN                5.415000       NaN   \n",
              "75%     546567.250000      NaN          NaN                7.022500       NaN   \n",
              "max     546592.000000      NaN          NaN               10.710000       NaN   \n",
              "\n",
              "       language_preferred  \n",
              "count                 100  \n",
              "unique                  3  \n",
              "top               Spanish  \n",
              "freq                   34  \n",
              "mean                  NaN  \n",
              "std                   NaN  \n",
              "min                   NaN  \n",
              "25%                   NaN  \n",
              "50%                   NaN  \n",
              "75%                   NaN  \n",
              "max                   NaN  "
            ],
            "text/html": [
              "\n",
              "  <div id=\"df-7acf56fb-2e83-49af-a3f6-6ce7897973ba\" class=\"colab-df-container\">\n",
              "    <div>\n",
              "<style scoped>\n",
              "    .dataframe tbody tr th:only-of-type {\n",
              "        vertical-align: middle;\n",
              "    }\n",
              "\n",
              "    .dataframe tbody tr th {\n",
              "        vertical-align: top;\n",
              "    }\n",
              "\n",
              "    .dataframe thead th {\n",
              "        text-align: right;\n",
              "    }\n",
              "</style>\n",
              "<table border=\"1\" class=\"dataframe\">\n",
              "  <thead>\n",
              "    <tr style=\"text-align: right;\">\n",
              "      <th></th>\n",
              "      <th>user_id</th>\n",
              "      <th>group</th>\n",
              "      <th>landing_page</th>\n",
              "      <th>time_spent_on_the_page</th>\n",
              "      <th>converted</th>\n",
              "      <th>language_preferred</th>\n",
              "    </tr>\n",
              "  </thead>\n",
              "  <tbody>\n",
              "    <tr>\n",
              "      <th>count</th>\n",
              "      <td>100.000000</td>\n",
              "      <td>100</td>\n",
              "      <td>100</td>\n",
              "      <td>100.000000</td>\n",
              "      <td>100</td>\n",
              "      <td>100</td>\n",
              "    </tr>\n",
              "    <tr>\n",
              "      <th>unique</th>\n",
              "      <td>NaN</td>\n",
              "      <td>2</td>\n",
              "      <td>2</td>\n",
              "      <td>NaN</td>\n",
              "      <td>2</td>\n",
              "      <td>3</td>\n",
              "    </tr>\n",
              "    <tr>\n",
              "      <th>top</th>\n",
              "      <td>NaN</td>\n",
              "      <td>control</td>\n",
              "      <td>old</td>\n",
              "      <td>NaN</td>\n",
              "      <td>yes</td>\n",
              "      <td>Spanish</td>\n",
              "    </tr>\n",
              "    <tr>\n",
              "      <th>freq</th>\n",
              "      <td>NaN</td>\n",
              "      <td>50</td>\n",
              "      <td>50</td>\n",
              "      <td>NaN</td>\n",
              "      <td>54</td>\n",
              "      <td>34</td>\n",
              "    </tr>\n",
              "    <tr>\n",
              "      <th>mean</th>\n",
              "      <td>546517.000000</td>\n",
              "      <td>NaN</td>\n",
              "      <td>NaN</td>\n",
              "      <td>5.377800</td>\n",
              "      <td>NaN</td>\n",
              "      <td>NaN</td>\n",
              "    </tr>\n",
              "    <tr>\n",
              "      <th>std</th>\n",
              "      <td>52.295779</td>\n",
              "      <td>NaN</td>\n",
              "      <td>NaN</td>\n",
              "      <td>2.378166</td>\n",
              "      <td>NaN</td>\n",
              "      <td>NaN</td>\n",
              "    </tr>\n",
              "    <tr>\n",
              "      <th>min</th>\n",
              "      <td>546443.000000</td>\n",
              "      <td>NaN</td>\n",
              "      <td>NaN</td>\n",
              "      <td>0.190000</td>\n",
              "      <td>NaN</td>\n",
              "      <td>NaN</td>\n",
              "    </tr>\n",
              "    <tr>\n",
              "      <th>25%</th>\n",
              "      <td>546467.750000</td>\n",
              "      <td>NaN</td>\n",
              "      <td>NaN</td>\n",
              "      <td>3.880000</td>\n",
              "      <td>NaN</td>\n",
              "      <td>NaN</td>\n",
              "    </tr>\n",
              "    <tr>\n",
              "      <th>50%</th>\n",
              "      <td>546492.500000</td>\n",
              "      <td>NaN</td>\n",
              "      <td>NaN</td>\n",
              "      <td>5.415000</td>\n",
              "      <td>NaN</td>\n",
              "      <td>NaN</td>\n",
              "    </tr>\n",
              "    <tr>\n",
              "      <th>75%</th>\n",
              "      <td>546567.250000</td>\n",
              "      <td>NaN</td>\n",
              "      <td>NaN</td>\n",
              "      <td>7.022500</td>\n",
              "      <td>NaN</td>\n",
              "      <td>NaN</td>\n",
              "    </tr>\n",
              "    <tr>\n",
              "      <th>max</th>\n",
              "      <td>546592.000000</td>\n",
              "      <td>NaN</td>\n",
              "      <td>NaN</td>\n",
              "      <td>10.710000</td>\n",
              "      <td>NaN</td>\n",
              "      <td>NaN</td>\n",
              "    </tr>\n",
              "  </tbody>\n",
              "</table>\n",
              "</div>\n",
              "    <div class=\"colab-df-buttons\">\n",
              "\n",
              "  <div class=\"colab-df-container\">\n",
              "    <button class=\"colab-df-convert\" onclick=\"convertToInteractive('df-7acf56fb-2e83-49af-a3f6-6ce7897973ba')\"\n",
              "            title=\"Convert this dataframe to an interactive table.\"\n",
              "            style=\"display:none;\">\n",
              "\n",
              "  <svg xmlns=\"http://www.w3.org/2000/svg\" height=\"24px\" viewBox=\"0 -960 960 960\">\n",
              "    <path d=\"M120-120v-720h720v720H120Zm60-500h600v-160H180v160Zm220 220h160v-160H400v160Zm0 220h160v-160H400v160ZM180-400h160v-160H180v160Zm440 0h160v-160H620v160ZM180-180h160v-160H180v160Zm440 0h160v-160H620v160Z\"/>\n",
              "  </svg>\n",
              "    </button>\n",
              "\n",
              "  <style>\n",
              "    .colab-df-container {\n",
              "      display:flex;\n",
              "      gap: 12px;\n",
              "    }\n",
              "\n",
              "    .colab-df-convert {\n",
              "      background-color: #E8F0FE;\n",
              "      border: none;\n",
              "      border-radius: 50%;\n",
              "      cursor: pointer;\n",
              "      display: none;\n",
              "      fill: #1967D2;\n",
              "      height: 32px;\n",
              "      padding: 0 0 0 0;\n",
              "      width: 32px;\n",
              "    }\n",
              "\n",
              "    .colab-df-convert:hover {\n",
              "      background-color: #E2EBFA;\n",
              "      box-shadow: 0px 1px 2px rgba(60, 64, 67, 0.3), 0px 1px 3px 1px rgba(60, 64, 67, 0.15);\n",
              "      fill: #174EA6;\n",
              "    }\n",
              "\n",
              "    .colab-df-buttons div {\n",
              "      margin-bottom: 4px;\n",
              "    }\n",
              "\n",
              "    [theme=dark] .colab-df-convert {\n",
              "      background-color: #3B4455;\n",
              "      fill: #D2E3FC;\n",
              "    }\n",
              "\n",
              "    [theme=dark] .colab-df-convert:hover {\n",
              "      background-color: #434B5C;\n",
              "      box-shadow: 0px 1px 3px 1px rgba(0, 0, 0, 0.15);\n",
              "      filter: drop-shadow(0px 1px 2px rgba(0, 0, 0, 0.3));\n",
              "      fill: #FFFFFF;\n",
              "    }\n",
              "  </style>\n",
              "\n",
              "    <script>\n",
              "      const buttonEl =\n",
              "        document.querySelector('#df-7acf56fb-2e83-49af-a3f6-6ce7897973ba button.colab-df-convert');\n",
              "      buttonEl.style.display =\n",
              "        google.colab.kernel.accessAllowed ? 'block' : 'none';\n",
              "\n",
              "      async function convertToInteractive(key) {\n",
              "        const element = document.querySelector('#df-7acf56fb-2e83-49af-a3f6-6ce7897973ba');\n",
              "        const dataTable =\n",
              "          await google.colab.kernel.invokeFunction('convertToInteractive',\n",
              "                                                    [key], {});\n",
              "        if (!dataTable) return;\n",
              "\n",
              "        const docLinkHtml = 'Like what you see? Visit the ' +\n",
              "          '<a target=\"_blank\" href=https://colab.research.google.com/notebooks/data_table.ipynb>data table notebook</a>'\n",
              "          + ' to learn more about interactive tables.';\n",
              "        element.innerHTML = '';\n",
              "        dataTable['output_type'] = 'display_data';\n",
              "        await google.colab.output.renderOutput(dataTable, element);\n",
              "        const docLink = document.createElement('div');\n",
              "        docLink.innerHTML = docLinkHtml;\n",
              "        element.appendChild(docLink);\n",
              "      }\n",
              "    </script>\n",
              "  </div>\n",
              "\n",
              "\n",
              "<div id=\"df-510fa43b-81f2-4bbb-a009-8a3667d36c95\">\n",
              "  <button class=\"colab-df-quickchart\" onclick=\"quickchart('df-510fa43b-81f2-4bbb-a009-8a3667d36c95')\"\n",
              "            title=\"Suggest charts\"\n",
              "            style=\"display:none;\">\n",
              "\n",
              "<svg xmlns=\"http://www.w3.org/2000/svg\" height=\"24px\"viewBox=\"0 0 24 24\"\n",
              "     width=\"24px\">\n",
              "    <g>\n",
              "        <path d=\"M19 3H5c-1.1 0-2 .9-2 2v14c0 1.1.9 2 2 2h14c1.1 0 2-.9 2-2V5c0-1.1-.9-2-2-2zM9 17H7v-7h2v7zm4 0h-2V7h2v10zm4 0h-2v-4h2v4z\"/>\n",
              "    </g>\n",
              "</svg>\n",
              "  </button>\n",
              "\n",
              "<style>\n",
              "  .colab-df-quickchart {\n",
              "      --bg-color: #E8F0FE;\n",
              "      --fill-color: #1967D2;\n",
              "      --hover-bg-color: #E2EBFA;\n",
              "      --hover-fill-color: #174EA6;\n",
              "      --disabled-fill-color: #AAA;\n",
              "      --disabled-bg-color: #DDD;\n",
              "  }\n",
              "\n",
              "  [theme=dark] .colab-df-quickchart {\n",
              "      --bg-color: #3B4455;\n",
              "      --fill-color: #D2E3FC;\n",
              "      --hover-bg-color: #434B5C;\n",
              "      --hover-fill-color: #FFFFFF;\n",
              "      --disabled-bg-color: #3B4455;\n",
              "      --disabled-fill-color: #666;\n",
              "  }\n",
              "\n",
              "  .colab-df-quickchart {\n",
              "    background-color: var(--bg-color);\n",
              "    border: none;\n",
              "    border-radius: 50%;\n",
              "    cursor: pointer;\n",
              "    display: none;\n",
              "    fill: var(--fill-color);\n",
              "    height: 32px;\n",
              "    padding: 0;\n",
              "    width: 32px;\n",
              "  }\n",
              "\n",
              "  .colab-df-quickchart:hover {\n",
              "    background-color: var(--hover-bg-color);\n",
              "    box-shadow: 0 1px 2px rgba(60, 64, 67, 0.3), 0 1px 3px 1px rgba(60, 64, 67, 0.15);\n",
              "    fill: var(--button-hover-fill-color);\n",
              "  }\n",
              "\n",
              "  .colab-df-quickchart-complete:disabled,\n",
              "  .colab-df-quickchart-complete:disabled:hover {\n",
              "    background-color: var(--disabled-bg-color);\n",
              "    fill: var(--disabled-fill-color);\n",
              "    box-shadow: none;\n",
              "  }\n",
              "\n",
              "  .colab-df-spinner {\n",
              "    border: 2px solid var(--fill-color);\n",
              "    border-color: transparent;\n",
              "    border-bottom-color: var(--fill-color);\n",
              "    animation:\n",
              "      spin 1s steps(1) infinite;\n",
              "  }\n",
              "\n",
              "  @keyframes spin {\n",
              "    0% {\n",
              "      border-color: transparent;\n",
              "      border-bottom-color: var(--fill-color);\n",
              "      border-left-color: var(--fill-color);\n",
              "    }\n",
              "    20% {\n",
              "      border-color: transparent;\n",
              "      border-left-color: var(--fill-color);\n",
              "      border-top-color: var(--fill-color);\n",
              "    }\n",
              "    30% {\n",
              "      border-color: transparent;\n",
              "      border-left-color: var(--fill-color);\n",
              "      border-top-color: var(--fill-color);\n",
              "      border-right-color: var(--fill-color);\n",
              "    }\n",
              "    40% {\n",
              "      border-color: transparent;\n",
              "      border-right-color: var(--fill-color);\n",
              "      border-top-color: var(--fill-color);\n",
              "    }\n",
              "    60% {\n",
              "      border-color: transparent;\n",
              "      border-right-color: var(--fill-color);\n",
              "    }\n",
              "    80% {\n",
              "      border-color: transparent;\n",
              "      border-right-color: var(--fill-color);\n",
              "      border-bottom-color: var(--fill-color);\n",
              "    }\n",
              "    90% {\n",
              "      border-color: transparent;\n",
              "      border-bottom-color: var(--fill-color);\n",
              "    }\n",
              "  }\n",
              "</style>\n",
              "\n",
              "  <script>\n",
              "    async function quickchart(key) {\n",
              "      const quickchartButtonEl =\n",
              "        document.querySelector('#' + key + ' button');\n",
              "      quickchartButtonEl.disabled = true;  // To prevent multiple clicks.\n",
              "      quickchartButtonEl.classList.add('colab-df-spinner');\n",
              "      try {\n",
              "        const charts = await google.colab.kernel.invokeFunction(\n",
              "            'suggestCharts', [key], {});\n",
              "      } catch (error) {\n",
              "        console.error('Error during call to suggestCharts:', error);\n",
              "      }\n",
              "      quickchartButtonEl.classList.remove('colab-df-spinner');\n",
              "      quickchartButtonEl.classList.add('colab-df-quickchart-complete');\n",
              "    }\n",
              "    (() => {\n",
              "      let quickchartButtonEl =\n",
              "        document.querySelector('#df-510fa43b-81f2-4bbb-a009-8a3667d36c95 button');\n",
              "      quickchartButtonEl.style.display =\n",
              "        google.colab.kernel.accessAllowed ? 'block' : 'none';\n",
              "    })();\n",
              "  </script>\n",
              "</div>\n",
              "\n",
              "    </div>\n",
              "  </div>\n"
            ],
            "application/vnd.google.colaboratory.intrinsic+json": {
              "type": "dataframe",
              "summary": "{\n  \"name\": \"df\",\n  \"rows\": 11,\n  \"fields\": [\n    {\n      \"column\": \"user_id\",\n      \"properties\": {\n        \"dtype\": \"number\",\n        \"std\": 252951.23119736966,\n        \"min\": 52.29577884350213,\n        \"max\": 546592.0,\n        \"num_unique_values\": 8,\n        \"samples\": [\n          546517.0,\n          546492.5,\n          100.0\n        ],\n        \"semantic_type\": \"\",\n        \"description\": \"\"\n      }\n    },\n    {\n      \"column\": \"group\",\n      \"properties\": {\n        \"dtype\": \"category\",\n        \"num_unique_values\": 4,\n        \"samples\": [\n          2,\n          \"50\",\n          \"100\"\n        ],\n        \"semantic_type\": \"\",\n        \"description\": \"\"\n      }\n    },\n    {\n      \"column\": \"landing_page\",\n      \"properties\": {\n        \"dtype\": \"category\",\n        \"num_unique_values\": 4,\n        \"samples\": [\n          2,\n          \"50\",\n          \"100\"\n        ],\n        \"semantic_type\": \"\",\n        \"description\": \"\"\n      }\n    },\n    {\n      \"column\": \"time_spent_on_the_page\",\n      \"properties\": {\n        \"dtype\": \"number\",\n        \"std\": 33.733788000034416,\n        \"min\": 0.19,\n        \"max\": 100.0,\n        \"num_unique_values\": 8,\n        \"samples\": [\n          5.377800000000001,\n          5.415,\n          100.0\n        ],\n        \"semantic_type\": \"\",\n        \"description\": \"\"\n      }\n    },\n    {\n      \"column\": \"converted\",\n      \"properties\": {\n        \"dtype\": \"category\",\n        \"num_unique_values\": 4,\n        \"samples\": [\n          2,\n          \"54\",\n          \"100\"\n        ],\n        \"semantic_type\": \"\",\n        \"description\": \"\"\n      }\n    },\n    {\n      \"column\": \"language_preferred\",\n      \"properties\": {\n        \"dtype\": \"category\",\n        \"num_unique_values\": 4,\n        \"samples\": [\n          3,\n          \"34\",\n          \"100\"\n        ],\n        \"semantic_type\": \"\",\n        \"description\": \"\"\n      }\n    }\n  ]\n}"
            }
          },
          "metadata": {},
          "execution_count": 341
        }
      ]
    },
    {
      "cell_type": "markdown",
      "source": [
        "    Observations:\n",
        "      * Since we have a lot of discrete data with binary or few options, a lot of columns will have NaN for a calculated numerical statistic.\n",
        "      * This doesn't mean we are necessarily missing data though.  "
      ],
      "metadata": {
        "id": "pfda8U29Gp3I"
      },
      "id": "pfda8U29Gp3I"
    },
    {
      "cell_type": "code",
      "source": [
        "#Also decided to look at the info of the data to see what types of data are in the dataframe\n",
        "df.info()\n"
      ],
      "metadata": {
        "colab": {
          "base_uri": "https://localhost:8080/"
        },
        "id": "AV3YvcyaoA8s",
        "outputId": "a49ad427-1bf5-4b31-a61f-64c17e6d2d08"
      },
      "id": "AV3YvcyaoA8s",
      "execution_count": 342,
      "outputs": [
        {
          "output_type": "stream",
          "name": "stdout",
          "text": [
            "<class 'pandas.core.frame.DataFrame'>\n",
            "RangeIndex: 100 entries, 0 to 99\n",
            "Data columns (total 6 columns):\n",
            " #   Column                  Non-Null Count  Dtype  \n",
            "---  ------                  --------------  -----  \n",
            " 0   user_id                 100 non-null    int64  \n",
            " 1   group                   100 non-null    object \n",
            " 2   landing_page            100 non-null    object \n",
            " 3   time_spent_on_the_page  100 non-null    float64\n",
            " 4   converted               100 non-null    object \n",
            " 5   language_preferred      100 non-null    object \n",
            "dtypes: float64(1), int64(1), object(4)\n",
            "memory usage: 4.8+ KB\n"
          ]
        }
      ]
    },
    {
      "cell_type": "markdown",
      "source": [
        "    Observations:\n",
        "      * Most of our columns are in objects and we can assume some of the data here will be discrete based on the column name.\n",
        "      * The only variable that is continuous is 'time spent on the page'."
      ],
      "metadata": {
        "id": "SaQZhqdlGFhs"
      },
      "id": "SaQZhqdlGFhs"
    },
    {
      "cell_type": "code",
      "source": [
        "#Checking for Missing Values\n",
        "data_new=pd.read_csv('/content/drive/MyDrive/abtest.csv', na_values=['Not given','inf'])\n",
        "data_new.isna().sum()"
      ],
      "metadata": {
        "colab": {
          "base_uri": "https://localhost:8080/"
        },
        "id": "iq55y1HJoAtA",
        "outputId": "1c2e9c04-d68c-4e7f-f7ba-e70f21cc0ef6"
      },
      "id": "iq55y1HJoAtA",
      "execution_count": 343,
      "outputs": [
        {
          "output_type": "execute_result",
          "data": {
            "text/plain": [
              "user_id                   0\n",
              "group                     0\n",
              "landing_page              0\n",
              "time_spent_on_the_page    0\n",
              "converted                 0\n",
              "language_preferred        0\n",
              "dtype: int64"
            ]
          },
          "metadata": {},
          "execution_count": 343
        }
      ]
    },
    {
      "cell_type": "markdown",
      "source": [
        "    Observations:\n",
        "      * It seems we have no missing data in the data set provided, that's great! Saves us some time."
      ],
      "metadata": {
        "id": "uQef3FrSCSSv"
      },
      "id": "uQef3FrSCSSv"
    },
    {
      "cell_type": "code",
      "source": [
        "#Check for Duplicates\n",
        "duplicates = df.duplicated()\n",
        "\n",
        "# Display duplicate rows\n",
        "duplicate_rows = df[duplicates]\n",
        "print(\"Duplicate rows:\")\n",
        "print(duplicate_rows)\n"
      ],
      "metadata": {
        "colab": {
          "base_uri": "https://localhost:8080/"
        },
        "id": "R2VFqiMepV9i",
        "outputId": "29940a52-122a-4f86-a84a-791d4064f307"
      },
      "id": "R2VFqiMepV9i",
      "execution_count": 344,
      "outputs": [
        {
          "output_type": "stream",
          "name": "stdout",
          "text": [
            "Duplicate rows:\n",
            "Empty DataFrame\n",
            "Columns: [user_id, group, landing_page, time_spent_on_the_page, converted, language_preferred]\n",
            "Index: []\n"
          ]
        }
      ]
    },
    {
      "cell_type": "markdown",
      "source": [
        "    Observations:\n",
        "      * It seems we have no duplicate records given that the function returned an empty dataframe."
      ],
      "metadata": {
        "id": "Ebonb-bYF6Zx"
      },
      "id": "Ebonb-bYF6Zx"
    },
    {
      "cell_type": "markdown",
      "metadata": {
        "id": "68f3b2c9"
      },
      "source": [
        "### Univariate Analysis"
      ],
      "id": "68f3b2c9"
    },
    {
      "cell_type": "markdown",
      "source": [
        "The following 6 sections are the univariate analysis and the observations for such."
      ],
      "metadata": {
        "id": "RtHao1goD1CX"
      },
      "id": "RtHao1goD1CX"
    },
    {
      "cell_type": "markdown",
      "source": [
        "##### 1) User ID"
      ],
      "metadata": {
        "id": "AW4oE9exDRLq"
      },
      "id": "AW4oE9exDRLq"
    },
    {
      "cell_type": "code",
      "metadata": {
        "id": "1932d0f3",
        "colab": {
          "base_uri": "https://localhost:8080/"
        },
        "outputId": "f2e70c4a-1a01-4eed-fbae-e3f3ef4e7a8d"
      },
      "source": [
        "df['user_id'].nunique()"
      ],
      "id": "1932d0f3",
      "execution_count": 345,
      "outputs": [
        {
          "output_type": "execute_result",
          "data": {
            "text/plain": [
              "100"
            ]
          },
          "metadata": {},
          "execution_count": 345
        }
      ]
    },
    {
      "cell_type": "markdown",
      "source": [
        "    Observations:\n",
        "      *  There are 100 distinct users in this data set.\n",
        "      \n",
        "\n"
      ],
      "metadata": {
        "id": "rHKKmmiiEOwg"
      },
      "id": "rHKKmmiiEOwg"
    },
    {
      "cell_type": "markdown",
      "source": [
        "#####2) Group"
      ],
      "metadata": {
        "id": "zet9yG6xDRyM"
      },
      "id": "zet9yG6xDRyM"
    },
    {
      "cell_type": "code",
      "source": [
        "#Plot the data in the Group column\n",
        "plt.title(\"Amount of Users per Group\")\n",
        "plt.xlabel('Group Type')\n",
        "plt.ylabel('Frequency')\n",
        "sns.countplot(data=df, x='group', color='thistle')\n",
        "plt.show()\n",
        "\n",
        "print('\\n')\n",
        "print('Stats for the Group column')\n",
        "print('-'*50)\n",
        "df['group'].describe()"
      ],
      "metadata": {
        "id": "8zPz2OI0DSfJ",
        "colab": {
          "base_uri": "https://localhost:8080/",
          "height": 0
        },
        "outputId": "996e34f7-bc04-4fb2-f793-b47aa8e58bfd"
      },
      "id": "8zPz2OI0DSfJ",
      "execution_count": 346,
      "outputs": [
        {
          "output_type": "display_data",
          "data": {
            "text/plain": [
              "<Figure size 640x480 with 1 Axes>"
            ],
            "image/png": "[encoded data removed]"
          },
          "metadata": {}
        },
        {
          "output_type": "stream",
          "name": "stdout",
          "text": [
            "\n",
            "\n",
            "Stats for the Group column\n",
            "--------------------------------------------------\n"
          ]
        },
        {
          "output_type": "execute_result",
          "data": {
            "text/plain": [
              "count         100\n",
              "unique          2\n",
              "top       control\n",
              "freq           50\n",
              "Name: group, dtype: object"
            ]
          },
          "metadata": {},
          "execution_count": 346
        }
      ]
    },
    {
      "cell_type": "markdown",
      "source": [
        "    Observations:\n",
        "      *  The sample group of users was divided into 2 groups: control and treatment.\n",
        "      *  Both groups were equal at 50.\n",
        "\n",
        "      *  Our sample will most likely have a few normal distributions based on the continuous variables like time and the amount of samples here (100)."
      ],
      "metadata": {
        "id": "_6VoqDFDEPfp"
      },
      "id": "_6VoqDFDEPfp"
    },
    {
      "cell_type": "markdown",
      "source": [
        "#####3) Landing Page"
      ],
      "metadata": {
        "id": "93pmStoKDS8M"
      },
      "id": "93pmStoKDS8M"
    },
    {
      "cell_type": "code",
      "source": [
        "plt.title(\"Landing Page Type Frequency\")\n",
        "plt.xlabel('Landing Page Type')\n",
        "plt.ylabel('Frequency')\n",
        "sns.countplot(data=df, x='landing_page', color='thistle')\n",
        "plt.show()\n",
        "\n",
        "\n",
        "print('\\n')\n",
        "print('Stats for the Landing Page column')\n",
        "print('-'*50)\n",
        "df['landing_page'].describe()"
      ],
      "metadata": {
        "id": "VxkAE1dRDTOo",
        "colab": {
          "base_uri": "https://localhost:8080/",
          "height": 0
        },
        "outputId": "cc4fedb1-7c84-4507-c077-36267b9d7c1b"
      },
      "id": "VxkAE1dRDTOo",
      "execution_count": 347,
      "outputs": [
        {
          "output_type": "display_data",
          "data": {
            "text/plain": [
              "<Figure size 640x480 with 1 Axes>"
            ],
            "image/png": "[encoded data removed]"
          },
          "metadata": {}
        },
        {
          "output_type": "stream",
          "name": "stdout",
          "text": [
            "\n",
            "\n",
            "Stats for the Landing Page column\n",
            "--------------------------------------------------\n"
          ]
        },
        {
          "output_type": "execute_result",
          "data": {
            "text/plain": [
              "count     100\n",
              "unique      2\n",
              "top       old\n",
              "freq       50\n",
              "Name: landing_page, dtype: object"
            ]
          },
          "metadata": {},
          "execution_count": 347
        }
      ]
    },
    {
      "cell_type": "markdown",
      "source": [
        "    Observations:\n",
        "      *  There are two groups, each with 50 users.\n",
        "    "
      ],
      "metadata": {
        "id": "GOILb01MEQEa"
      },
      "id": "GOILb01MEQEa"
    },
    {
      "cell_type": "markdown",
      "source": [
        "#####4) Time Spent"
      ],
      "metadata": {
        "id": "okdFHNY1DTeM"
      },
      "id": "okdFHNY1DTeM"
    },
    {
      "cell_type": "code",
      "source": [
        "plt.figure(figsize=(9.9,7))\n",
        "plt.title(\"Time Spent on Landing Page (min)\")\n",
        "plt.xlabel('Landing Page Time (in minutes)')\n",
        "plt.ylabel('Frequency')\n",
        "sns.histplot(data=df, x='time_spent_on_the_page', color='thistle', kde=True)\n",
        "plt.show()"
      ],
      "metadata": {
        "id": "9km6mPRFDT2s",
        "colab": {
          "base_uri": "https://localhost:8080/",
          "height": 0
        },
        "outputId": "7ac9c764-e991-4134-f624-1c9112430de2"
      },
      "id": "9km6mPRFDT2s",
      "execution_count": 348,
      "outputs": [
        {
          "output_type": "display_data",
          "data": {
            "text/plain": [
              "<Figure size 990x700 with 1 Axes>"
            ],
            "image/png": "[encoded data removed]"
          },
          "metadata": {}
        }
      ]
    },
    {
      "cell_type": "code",
      "source": [
        "#Also wanted to do a box plot on this:\n",
        "plt.figure(figsize=(10,7))\n",
        "plt.title('Boxplot:Time Spent on the Landing Page')\n",
        "plt.ylabel('Time spent on the landing page ')\n",
        "sns.boxplot(data = df, y='time_spent_on_the_page', color='thistle')\n",
        "plt.show()"
      ],
      "metadata": {
        "colab": {
          "base_uri": "https://localhost:8080/",
          "height": 0
        },
        "id": "IF-2sp2wQ6TN",
        "outputId": "79751430-7c71-4ec5-f60a-5835503bea30"
      },
      "id": "IF-2sp2wQ6TN",
      "execution_count": 349,
      "outputs": [
        {
          "output_type": "display_data",
          "data": {
            "text/plain": [
              "<Figure size 1000x700 with 1 Axes>"
            ],
            "image/png": "[encoded data removed]"
          },
          "metadata": {}
        }
      ]
    },
    {
      "cell_type": "code",
      "source": [
        "#Let's print the stats out:\n",
        "print('Stats for Time Spent on the Page Column')\n",
        "print('-'*50)\n",
        "df['time_spent_on_the_page'].describe()"
      ],
      "metadata": {
        "colab": {
          "base_uri": "https://localhost:8080/"
        },
        "id": "sRmc7j5cSkba",
        "outputId": "22cc6526-b6d3-469a-8f5a-42d2f34aff80"
      },
      "id": "sRmc7j5cSkba",
      "execution_count": 350,
      "outputs": [
        {
          "output_type": "stream",
          "name": "stdout",
          "text": [
            "Stats for Time Spent on the Page Column\n",
            "--------------------------------------------------\n"
          ]
        },
        {
          "output_type": "execute_result",
          "data": {
            "text/plain": [
              "count    100.000000\n",
              "mean       5.377800\n",
              "std        2.378166\n",
              "min        0.190000\n",
              "25%        3.880000\n",
              "50%        5.415000\n",
              "75%        7.022500\n",
              "max       10.710000\n",
              "Name: time_spent_on_the_page, dtype: float64"
            ]
          },
          "metadata": {},
          "execution_count": 350
        }
      ]
    },
    {
      "cell_type": "markdown",
      "source": [
        "    Observations:\n",
        "      *  We have a normal distribution which goes with what we expected in earlier observations.\n",
        "      *  All of our graphical displays confirm with eachother in regards to our mean, min and max time spent with the landing pages.\n",
        "\n",
        "      * Mean time: 5.378 minutes\n",
        "      * Min Time:  0.19 minutes\n",
        "      * Max Time: 10.71 minutes\n",
        "\n",
        "      (Later- in the bivariate analysis-I'll analyze further with filtering by group and conversion to make more observations about specific users.)"
      ],
      "metadata": {
        "id": "smdE9EscEQfa"
      },
      "id": "smdE9EscEQfa"
    },
    {
      "cell_type": "markdown",
      "source": [
        "#####5) Converted"
      ],
      "metadata": {
        "id": "ru1KtBJZDUZN"
      },
      "id": "ru1KtBJZDUZN"
    },
    {
      "cell_type": "code",
      "source": [
        "#Plot the data in the Group column\n",
        "plt.title(\"Amount of Users Converted\")\n",
        "plt.xlabel('converted')\n",
        "plt.ylabel('Frequency')\n",
        "sns.countplot(data=df, x='converted', color='thistle')\n",
        "plt.show()\n",
        "\n",
        "print('\\n')\n",
        "print('Stats for the Converted column')\n",
        "print('-'*50)\n",
        "df['converted'].describe()"
      ],
      "metadata": {
        "id": "tJC1-Td7DUrk",
        "colab": {
          "base_uri": "https://localhost:8080/",
          "height": 0
        },
        "outputId": "18f354c7-60e4-4af8-b14e-88718aecbca8"
      },
      "id": "tJC1-Td7DUrk",
      "execution_count": 351,
      "outputs": [
        {
          "output_type": "display_data",
          "data": {
            "text/plain": [
              "<Figure size 640x480 with 1 Axes>"
            ],
            "image/png": "[encoded data removed]"
          },
          "metadata": {}
        },
        {
          "output_type": "stream",
          "name": "stdout",
          "text": [
            "\n",
            "\n",
            "Stats for the Converted column\n",
            "--------------------------------------------------\n"
          ]
        },
        {
          "output_type": "execute_result",
          "data": {
            "text/plain": [
              "count     100\n",
              "unique      2\n",
              "top       yes\n",
              "freq       54\n",
              "Name: converted, dtype: object"
            ]
          },
          "metadata": {},
          "execution_count": 351
        }
      ]
    },
    {
      "cell_type": "markdown",
      "source": [
        "    Observations:\n",
        "      *  Of the 100 users we had 54 users that converted, so more than 50%. As it stands, we don't see an\n",
        "         argument against the new landing page since we have a metric of over 50% conversion rate, for now.\n",
        "      *  In the Bivariate analysis we will analyze how many users converted based on their initial grouping and how\n",
        "         long they spent on the page and see what insights come from there."
      ],
      "metadata": {
        "id": "GuBSCeZ_EQ97"
      },
      "id": "GuBSCeZ_EQ97"
    },
    {
      "cell_type": "markdown",
      "source": [
        "#####6) Language Preferred"
      ],
      "metadata": {
        "id": "zPXSJ13WEH3_"
      },
      "id": "zPXSJ13WEH3_"
    },
    {
      "cell_type": "code",
      "source": [
        "#Plot the data in the Preferred Language column\n",
        "plt.title(\"Preferred Language for Users\")\n",
        "plt.xlabel('Preferred Language')\n",
        "plt.ylabel('Frequency')\n",
        "sns.countplot(data=df, x='language_preferred', color='thistle')\n",
        "plt.show()\n",
        "\n",
        "print('\\n')\n",
        "print('Stats for the Preferred Language column')\n",
        "print('-'*50)\n",
        "df['language_preferred'].describe()"
      ],
      "metadata": {
        "id": "alsWY3rEEL3A",
        "colab": {
          "base_uri": "https://localhost:8080/",
          "height": 0
        },
        "outputId": "347f4e86-c082-4c97-957b-6550b26747f4"
      },
      "id": "alsWY3rEEL3A",
      "execution_count": 352,
      "outputs": [
        {
          "output_type": "display_data",
          "data": {
            "text/plain": [
              "<Figure size 640x480 with 1 Axes>"
            ],
            "image/png": "[encoded data removed]"
          },
          "metadata": {}
        },
        {
          "output_type": "stream",
          "name": "stdout",
          "text": [
            "\n",
            "\n",
            "Stats for the Preferred Language column\n",
            "--------------------------------------------------\n"
          ]
        },
        {
          "output_type": "execute_result",
          "data": {
            "text/plain": [
              "count         100\n",
              "unique          3\n",
              "top       Spanish\n",
              "freq           34\n",
              "Name: language_preferred, dtype: object"
            ]
          },
          "metadata": {},
          "execution_count": 352
        }
      ]
    },
    {
      "cell_type": "markdown",
      "source": [
        "    Observations:\n",
        "      *  The top two languages according to the graph are Spanish and French.\n",
        "      *  All languages are preferred almost equally, so it wouldn't be wise to remove any of the available languages.\n",
        "\n",
        "      *Spanish- 34%\n",
        "      *French - 34%\n",
        "      *English- 32%"
      ],
      "metadata": {
        "id": "rmZcHeYwERfS"
      },
      "id": "rmZcHeYwERfS"
    },
    {
      "cell_type": "markdown",
      "metadata": {
        "id": "fad2de2f"
      },
      "source": [
        "### Bivariate Analysis"
      ],
      "id": "fad2de2f"
    },
    {
      "cell_type": "markdown",
      "source": [
        "#### 1) Group Vs Landing Page"
      ],
      "metadata": {
        "id": "jTdQlJdLwlXt"
      },
      "id": "jTdQlJdLwlXt"
    },
    {
      "cell_type": "code",
      "source": [
        "plt.figure(figsize=(9,6))\n",
        "plt.title('Barplot:Group Users per Landing Page')\n",
        "plt.ylabel('Landing Page')\n",
        "plt.xlabel('Group')\n",
        "sns.countplot(data=df, x='group', hue='landing_page', palette='dark:thistle');\n",
        "plt.show()"
      ],
      "metadata": {
        "id": "yT0jc1X0wkrO",
        "colab": {
          "base_uri": "https://localhost:8080/",
          "height": 0
        },
        "outputId": "ca53dcf7-494e-46e6-896a-070054f56a71"
      },
      "id": "yT0jc1X0wkrO",
      "execution_count": 353,
      "outputs": [
        {
          "output_type": "display_data",
          "data": {
            "text/plain": [
              "<Figure size 900x600 with 1 Axes>"
            ],
            "image/png": "[encoded data removed]"
          },
          "metadata": {}
        }
      ]
    },
    {
      "cell_type": "markdown",
      "source": [
        "**Observations:**\n",
        "\n",
        "    *  We can see here that the group was split evenly at the start.\n",
        "    *  50% of users started at the old page as the control group and the treatment group got the other 50% and the new landing page."
      ],
      "metadata": {
        "id": "AFxt8Xk8xLi-"
      },
      "id": "AFxt8Xk8xLi-"
    },
    {
      "cell_type": "markdown",
      "source": [
        "####2) Group vs Time spent on the Page"
      ],
      "metadata": {
        "id": "-mAFL6DvwmWq"
      },
      "id": "-mAFL6DvwmWq"
    },
    {
      "cell_type": "code",
      "source": [
        " #scatterplot\n",
        "plt.figure(figsize=(5,8))\n",
        "plt.title('Scatterplot: Group Users per Landing Page')\n",
        "plt.ylabel('Time Spent on the Page (min)')\n",
        "plt.xlabel('Group')\n",
        "sns.scatterplot(data=df, x=\"group\", y=\"time_spent_on_the_page\",color='thistle',)\n",
        "plt.show()\n",
        "print('\\n')\n",
        " # do a box plot also\n",
        "plt.figure(figsize=(10,5))\n",
        "plt.title('Boxplot: User Time Spent on the Page by Group')\n",
        "plt.xlabel('Group')\n",
        "plt.ylabel('Time Spent on the Page (min)')\n",
        "sns.boxplot(data=df, x=\"group\", y=\"time_spent_on_the_page\",color='thistle',)\n",
        "plt.show()"
      ],
      "metadata": {
        "colab": {
          "base_uri": "https://localhost:8080/",
          "height": 0
        },
        "id": "rBmqAiIVS6sS",
        "outputId": "96e14ffa-60ee-4240-d1f4-976de33667db"
      },
      "id": "rBmqAiIVS6sS",
      "execution_count": 354,
      "outputs": [
        {
          "output_type": "display_data",
          "data": {
            "text/plain": [
              "<Figure size 500x800 with 1 Axes>"
            ],
            "image/png": "[encoded data removed]"
          },
          "metadata": {}
        },
        {
          "output_type": "stream",
          "name": "stdout",
          "text": [
            "\n",
            "\n"
          ]
        },
        {
          "output_type": "display_data",
          "data": {
            "text/plain": [
              "<Figure size 1000x500 with 1 Axes>"
            ],
            "image/png": "[encoded data removed]"
          },
          "metadata": {}
        }
      ]
    },
    {
      "cell_type": "markdown",
      "source": [
        "**Observations:**\n",
        "\n",
        "    * This gives some interesting insight. Based on the scatterplot alone we could intuitevely want to promote the new page.\n",
        "    * The old page with the control group has people who spent less than a minute on the page,\n",
        "      which springs doubt as to whether these people would subscribe. Most users will explore a\n",
        "      page to some degree on interest and then subscribe.\n",
        "    * On the new page we didn't have anyone who was on the page for under a minute.  "
      ],
      "metadata": {
        "id": "Fa3bS_Nox4R7"
      },
      "id": "Fa3bS_Nox4R7"
    },
    {
      "cell_type": "markdown",
      "source": [
        "#### 3)Time Spent on the Page per Landing Page"
      ],
      "metadata": {
        "id": "dsQaqC0qwltv"
      },
      "id": "dsQaqC0qwltv"
    },
    {
      "cell_type": "code",
      "source": [
        "#scatterplot timmmme :D\n",
        "plt.figure(figsize=(5,8))\n",
        "plt.title('Scatterplot: Time spent per Landing Page')\n",
        "plt.ylabel('Time Spent on the Page (min)')\n",
        "plt.xlabel('Landing Page')\n",
        "sns.scatterplot(data=df, x=\"landing_page\", y=\"time_spent_on_the_page\",color='thistle',)\n",
        "plt.show()\n",
        "\n",
        "\n",
        "print('\\n')\n",
        "# do a box plot also :)\n",
        "plt.figure(figsize=(10,5))\n",
        "sns.boxplot(data= df, x ='landing_page', y= 'time_spent_on_the_page', color='thistle', showfliers=True)\n",
        "plt.title('Boxplot:  Time Spent on each Landing Page')\n",
        "plt.xlabel('Landing Page')\n",
        "plt.ylabel('Time Spent on the Page (min)')\n",
        "plt.show()"
      ],
      "metadata": {
        "id": "TqqMY5Idx2Wl",
        "colab": {
          "base_uri": "https://localhost:8080/",
          "height": 0
        },
        "outputId": "ec435b07-0dba-4a47-82b1-bc90c82de64d"
      },
      "id": "TqqMY5Idx2Wl",
      "execution_count": 355,
      "outputs": [
        {
          "output_type": "display_data",
          "data": {
            "text/plain": [
              "<Figure size 500x800 with 1 Axes>"
            ],
            "image/png": "[encoded data removed]"
          },
          "metadata": {}
        },
        {
          "output_type": "stream",
          "name": "stdout",
          "text": [
            "\n",
            "\n"
          ]
        },
        {
          "output_type": "display_data",
          "data": {
            "text/plain": [
              "<Figure size 1000x500 with 1 Axes>"
            ],
            "image/png": "[encoded data removed]"
          },
          "metadata": {}
        }
      ]
    },
    {
      "cell_type": "markdown",
      "source": [
        "**Observations:**\n",
        "\n",
        "    * Since the landing page is split 50-50 based on the user control group. These graphs will look the same as the previous ones.\n",
        "    * But I've plotted them just for the sake of being thorough.\n",
        "    * We just see again that people are staying on the new site for longer."
      ],
      "metadata": {
        "id": "KKRlq0NAxTjt"
      },
      "id": "KKRlq0NAxTjt"
    },
    {
      "cell_type": "markdown",
      "source": [
        "####4) Conversion Rates by Group"
      ],
      "metadata": {
        "id": "1zmiPK0MyDn5"
      },
      "id": "1zmiPK0MyDn5"
    },
    {
      "cell_type": "code",
      "source": [
        "plt.figure(figsize=(10,7)) # makes the plot bigger so that its more readable\n",
        "plt.title('Barplot:Group Conversion')\n",
        "plt.ylabel('Conversion Count')\n",
        "plt.xlabel('Group')\n",
        "sns.countplot(data=df, x='group', hue='converted', palette='dark:thistle');\n",
        "plt.show()\n"
      ],
      "metadata": {
        "id": "Lxgu6i8wwkgC",
        "colab": {
          "base_uri": "https://localhost:8080/",
          "height": 0
        },
        "outputId": "a49a4780-dcc3-4ef2-aca8-fc56128c9fb5"
      },
      "id": "Lxgu6i8wwkgC",
      "execution_count": 356,
      "outputs": [
        {
          "output_type": "display_data",
          "data": {
            "text/plain": [
              "<Figure size 1000x700 with 1 Axes>"
            ],
            "image/png": "[encoded data removed]"
          },
          "metadata": {}
        }
      ]
    },
    {
      "cell_type": "markdown",
      "source": [
        "**Observations:**\n",
        "\n",
        "    * More evidence we should promote the new landing page.\n",
        "    * By observing the graph, we know that the new landing page has a higher conversion rate that the existing landing page.\n",
        "    * The landing page has a ~17 people who didn't subscribe, but over 30 who did.\n",
        "    * Meanwhile the current landing/ control group has more than\n",
        "      half the visitors not subscribing, not a good sight."
      ],
      "metadata": {
        "id": "741ebe3qxUUa"
      },
      "id": "741ebe3qxUUa"
    },
    {
      "cell_type": "markdown",
      "source": [
        "####5) Conversion & Preferred Language"
      ],
      "metadata": {
        "id": "mZS6MSwUwnf1"
      },
      "id": "mZS6MSwUwnf1"
    },
    {
      "cell_type": "code",
      "source": [
        "plt.figure(figsize=(10,7)) # makes the plot bigger so that its more readable\n",
        "plt.title('Barplot:Preferred Language Conversion')\n",
        "plt.ylabel('Conversion Count')\n",
        "plt.xlabel('Preferred Language')\n",
        "sns.countplot(data=df, x='language_preferred', hue='converted', palette='dark:thistle');\n",
        "plt.show()\n"
      ],
      "metadata": {
        "id": "nNQaoeHWwkT4",
        "colab": {
          "base_uri": "https://localhost:8080/",
          "height": 0
        },
        "outputId": "f2cffacc-a2fd-498d-9275-a16a181cbba2"
      },
      "id": "nNQaoeHWwkT4",
      "execution_count": 357,
      "outputs": [
        {
          "output_type": "display_data",
          "data": {
            "text/plain": [
              "<Figure size 1000x700 with 1 Axes>"
            ],
            "image/png": "[encoded data removed]"
          },
          "metadata": {}
        }
      ]
    },
    {
      "cell_type": "markdown",
      "source": [
        "**Observations:**\n",
        "\n",
        "    *  So for the Users who chose English and Spanish on the page display we have a higher subscriber count vs a non-subscriber count.\n",
        "    *  We don't have enough data yet to see why the French display users aren't subscribing. We could theorize a few things:\n",
        "      a) More French display choosers were part of the control group, which we already know had less subscribers or\n",
        "      b) Maybe the page was displaying with errors or poor translations. Since we don't have info about this variable in our data set, that might become an *assignment* for someone to look into."
      ],
      "metadata": {
        "id": "nhhQgk37xVDO"
      },
      "id": "nhhQgk37xVDO"
    },
    {
      "cell_type": "markdown",
      "source": [
        "####6) Preferred Language & Group"
      ],
      "metadata": {
        "id": "cQwK8HzK0aO3"
      },
      "id": "cQwK8HzK0aO3"
    },
    {
      "cell_type": "code",
      "metadata": {
        "id": "58e9a1d0",
        "colab": {
          "base_uri": "https://localhost:8080/",
          "height": 0
        },
        "outputId": "5b626359-8d78-4c1a-d354-fe2d4d06ec0f"
      },
      "source": [
        "plt.figure(figsize=(10,7)) # makes the plot bigger so that its more readable\n",
        "plt.title('Barplot:Preferred Language In Groups')\n",
        "plt.ylabel('User Count')\n",
        "plt.xlabel('Preferred Language')\n",
        "sns.countplot(data=df, x='language_preferred', hue='group', palette='dark:thistle');\n",
        "plt.show()"
      ],
      "id": "58e9a1d0",
      "execution_count": 358,
      "outputs": [
        {
          "output_type": "display_data",
          "data": {
            "text/plain": [
              "<Figure size 1000x700 with 1 Axes>"
            ],
            "image/png": "[encoded data removed]"
          },
          "metadata": {}
        }
      ]
    },
    {
      "cell_type": "markdown",
      "source": [
        "**Observations:**\n",
        "\n",
        "    * We can see that all languages were represented equally for both the user and the control group."
      ],
      "metadata": {
        "id": "xQIkAB-gxXg9"
      },
      "id": "xQIkAB-gxXg9"
    },
    {
      "cell_type": "markdown",
      "source": [
        "####7) Time Spent on the Page & Conversion"
      ],
      "metadata": {
        "id": "fa6aR_wnzuWx"
      },
      "id": "fa6aR_wnzuWx"
    },
    {
      "cell_type": "code",
      "source": [
        "#scatterplot timmmme :D\n",
        "plt.figure(figsize=(10,3))\n",
        "plt.title('Scatterplot: Conversion per Time Spent on Page')\n",
        "plt.ylabel('Time Spent on the Page (min)')\n",
        "plt.xlabel('Converted')\n",
        "sns.scatterplot(data=df, x=\"time_spent_on_the_page\", y=\"converted\",color='thistle',)\n",
        "plt.show()\n",
        "\n",
        "\n",
        "print('\\n')\n",
        "# do a box plot also :)\n",
        "plt.figure(figsize=(10,5))\n",
        "sns.boxplot(data= df, x ='converted', y= 'time_spent_on_the_page', color='thistle', showfliers=True)\n",
        "plt.title('Boxplot: Conversion by Time Spent on Page')\n",
        "plt.xlabel('Converted')\n",
        "plt.ylabel('Time Spent on the Page (min)')\n",
        "plt.show()"
      ],
      "metadata": {
        "id": "Zk_chU-20a--",
        "colab": {
          "base_uri": "https://localhost:8080/",
          "height": 0
        },
        "outputId": "8f97a6cc-765b-4234-fd3f-7be893e00f38"
      },
      "id": "Zk_chU-20a--",
      "execution_count": 359,
      "outputs": [
        {
          "output_type": "display_data",
          "data": {
            "text/plain": [
              "<Figure size 1000x300 with 1 Axes>"
            ],
            "image/png": "[encoded data removed]"
          },
          "metadata": {}
        },
        {
          "output_type": "stream",
          "name": "stdout",
          "text": [
            "\n",
            "\n"
          ]
        },
        {
          "output_type": "display_data",
          "data": {
            "text/plain": [
              "<Figure size 1000x500 with 1 Axes>"
            ],
            "image/png": "[encoded data removed]"
          },
          "metadata": {}
        }
      ]
    },
    {
      "cell_type": "markdown",
      "source": [
        "**Observations:**\n",
        "\n",
        "    *  Both graphs confirm what we had seen previously.\n",
        "    *  We see a positive correlation with more people subscribing and higher amounts of time spent on the landing page.\n",
        "    *  We have people on the old landing page who immediately left but we have people who did subscribe who stayed for over then minutes using the page.\n",
        "    * 75% of people who didn't subscribe didn't spend more then 5 minutes on the langing page.\n",
        "    * Meanwhile of the people who did subscribe 75% of people spent at least 5 minutes on the page.\n",
        "    "
      ],
      "metadata": {
        "id": "EpbgjRWqzvUn"
      },
      "id": "EpbgjRWqzvUn"
    },
    {
      "cell_type": "markdown",
      "source": [
        "####**List of Bivariate Analysis Graphs- Not plotted**\n"
      ],
      "metadata": {
        "id": "UKiq9ncV0ou3"
      },
      "id": "UKiq9ncV0ou3"
    },
    {
      "cell_type": "markdown",
      "source": [
        "These graphs were plotted initially but then removed from my final submission due to redundancy. The details and code are listed for the sake of thoroughness and completion.\n",
        "\n",
        "\n",
        "*   **Barplot:Landing page versus Languages preferred.**\n",
        "    \n",
        "    Excluded since its the same as Group vs Language Preferred.\n",
        "    \n",
        "\n",
        "      Code Below:\n",
        "          plt.figure(figsize=(10,7))\n",
        "          plt.title('Barplot:Preferred Language Conversion')\n",
        "          plt.ylabel('Conversion Count')\n",
        "          plt.xlabel('Preferred Language')\n",
        "          sns.countplot(data=df, x='language_preferred', hue='landing_page', palette='dark:thistle');\n",
        "          plt.show()\n",
        "\n",
        "\n",
        "*   **Barplot:Landing Page Conversion**\n",
        "\n",
        "    Excluded since its the same as the Group Conversion\n",
        "  \n",
        "      \n",
        "      Code Below:\n",
        "          plt.figure(figsize=(10,7))  \n",
        "          plt.title('Barplot:Landing Page Conversion')\n",
        "          plt.ylabel('Conversion Count')\n",
        "          plt.xlabel('Landing Page')\n",
        "          sns.countplot(data=df, x='landing_page', hue='converted', palette='dark:thistle');\n",
        "          plt.show()"
      ],
      "metadata": {
        "id": "cmFayXuu-Rnd"
      },
      "id": "cmFayXuu-Rnd"
    },
    {
      "cell_type": "markdown",
      "source": [
        "---\n",
        "##**Statistical Analysis Questions**\n",
        "---"
      ],
      "metadata": {
        "id": "SoCtQWtnetVJ"
      },
      "id": "SoCtQWtnetVJ"
    },
    {
      "cell_type": "markdown",
      "metadata": {
        "id": "27906576"
      },
      "source": [
        "## **1. Do the users spend more time on the new landing page than the existing landing page?**"
      ],
      "id": "27906576"
    },
    {
      "cell_type": "markdown",
      "metadata": {
        "id": "e5fdf0c8"
      },
      "source": [
        "#### Step 0: Perform Visual Analysis"
      ],
      "id": "e5fdf0c8"
    },
    {
      "cell_type": "code",
      "metadata": {
        "id": "6eZJa41eg21n",
        "colab": {
          "base_uri": "https://localhost:8080/",
          "height": 0
        },
        "outputId": "b48aa5e0-62b9-4971-f542-0a745bc4b2e9"
      },
      "source": [
        "plt.figure(figsize=(10,5))\n",
        "sns.boxplot(data=df, x = 'landing_page', y = 'time_spent_on_the_page', color='thistle')\n",
        "plt.show()"
      ],
      "id": "6eZJa41eg21n",
      "execution_count": 360,
      "outputs": [
        {
          "output_type": "display_data",
          "data": {
            "text/plain": [
              "<Figure size 1000x500 with 1 Axes>"
            ],
            "image/png": "[encoded data removed]"
          },
          "metadata": {}
        }
      ]
    },
    {
      "cell_type": "markdown",
      "metadata": {
        "id": "56b3dafd"
      },
      "source": [
        "#### Step 1: Define the null and alternate hypotheses"
      ],
      "id": "56b3dafd"
    },
    {
      "cell_type": "markdown",
      "metadata": {
        "id": "d2ac77ef"
      },
      "source": [
        " $H_0$:  μ_New_Page = μ_Existing_Page\n",
        "\n",
        " $H_a$:  μ_New_Page > μ_Existing_Page\n",
        "\n",
        "where:\n",
        "* μ_New_Page represents the population mean time spent on the new landing page.\n",
        "* μ_Existing_Page represents the population mean time spent on the new landing page.\n"
      ],
      "id": "d2ac77ef"
    },
    {
      "cell_type": "markdown",
      "metadata": {
        "id": "c7ee4907"
      },
      "source": [
        "#### Step 2: Select Appropriate test\n"
      ],
      "id": "c7ee4907"
    },
    {
      "cell_type": "markdown",
      "source": [
        "\n",
        "    The appropriate test would be an Independent two-sample T test.\n"
      ],
      "metadata": {
        "id": "D00e9VdK-cl4"
      },
      "id": "D00e9VdK-cl4"
    },
    {
      "cell_type": "markdown",
      "metadata": {
        "id": "3f58c9a7"
      },
      "source": [
        "#### Step 3: Decide the significance level"
      ],
      "id": "3f58c9a7"
    },
    {
      "cell_type": "markdown",
      "source": [
        "\n",
        "    The problen statement gave us an assigned significance level of alpha = 0.05."
      ],
      "metadata": {
        "id": "NHWuH4nx-p00"
      },
      "id": "NHWuH4nx-p00"
    },
    {
      "cell_type": "markdown",
      "metadata": {
        "id": "5fed2eac"
      },
      "source": [
        "#### Step 4: Collect and prepare data"
      ],
      "id": "5fed2eac"
    },
    {
      "cell_type": "code",
      "metadata": {
        "id": "f5a59495",
        "colab": {
          "base_uri": "https://localhost:8080/"
        },
        "outputId": "0abfb13e-ba3d-40e0-dee8-9cb98aa0e4a3"
      },
      "source": [
        "# create subsetted data frame for new landing page users\n",
        "time_spent_new = df[df['landing_page'] == 'new']['time_spent_on_the_page']\n",
        "\n",
        "# create subsetted data frame for old landing page users\n",
        "time_spent_old = df[df['landing_page'] == 'old']['time_spent_on_the_page']\n",
        "print('The sample standard deviation of the time spent on the new page is:', round(time_spent_new.std(),2))\n",
        "print('The sample standard deviation of the time spent on the old page is:', round(time_spent_old.std(),2))"
      ],
      "id": "f5a59495",
      "execution_count": 361,
      "outputs": [
        {
          "output_type": "stream",
          "name": "stdout",
          "text": [
            "The sample standard deviation of the time spent on the new page is: 1.82\n",
            "The sample standard deviation of the time spent on the old page is: 2.58\n"
          ]
        }
      ]
    },
    {
      "cell_type": "markdown",
      "metadata": {
        "id": "f5c5258d"
      },
      "source": [
        "#### Step 5: Calculate the p-value"
      ],
      "id": "f5c5258d"
    },
    {
      "cell_type": "code",
      "metadata": {
        "id": "fac8594a",
        "colab": {
          "base_uri": "https://localhost:8080/"
        },
        "outputId": "cf2194f0-259b-4a59-b7ca-9eb7ff05ead9"
      },
      "source": [
        "# complete the code to import the required function\n",
        "from scipy.stats import ttest_ind\n",
        "# write the code to calculate the p-value\n",
        "test_stat, p_value =  ttest_ind(time_spent_new, time_spent_old, equal_var = False, alternative = 'greater')\n",
        "print('The p-value is', p_value)"
      ],
      "id": "fac8594a",
      "execution_count": 362,
      "outputs": [
        {
          "output_type": "stream",
          "name": "stdout",
          "text": [
            "The p-value is 0.0001392381225166549\n"
          ]
        }
      ]
    },
    {
      "cell_type": "markdown",
      "metadata": {
        "id": "359b12f8"
      },
      "source": [
        "#### Step 6: Compare the p-value with $\\alpha$"
      ],
      "id": "359b12f8"
    },
    {
      "cell_type": "markdown",
      "source": [
        "\n",
        "    * The p-value is 0.001392.\n",
        "    * The significance level is 0.05.\n",
        "    * Therefore the p-value is less than the significance level (and we can reject the null hypothesis!) The code is below just in case."
      ],
      "metadata": {
        "id": "hWrtvzakDpk4"
      },
      "id": "hWrtvzakDpk4"
    },
    {
      "cell_type": "code",
      "source": [
        "if p_value < 0.05:\n",
        "    print(f'As the p-value {p_value} is less than the level of significance, we reject the null hypothesis.')\n",
        "else:\n",
        "    print(f'As the p-value {p_value} is greater than the level of significance, we fail to reject the null hypothesis.')"
      ],
      "metadata": {
        "colab": {
          "base_uri": "https://localhost:8080/"
        },
        "id": "evCdLWEMmTor",
        "outputId": "c7022294-3e22-428c-dc77-7c094132329a"
      },
      "id": "evCdLWEMmTor",
      "execution_count": 363,
      "outputs": [
        {
          "output_type": "stream",
          "name": "stdout",
          "text": [
            "As the p-value 0.0001392381225166549 is less than the level of significance, we reject the null hypothesis.\n"
          ]
        }
      ]
    },
    {
      "cell_type": "markdown",
      "metadata": {
        "id": "d9affc84"
      },
      "source": [
        "#### Step 7:  Draw inference"
      ],
      "id": "d9affc84"
    },
    {
      "cell_type": "markdown",
      "metadata": {
        "id": "6b16dd4b"
      },
      "source": [
        "    \n",
        "    We can reject the null hypothesis and come to the new conclusion that people spend more time on the new landing page.  "
      ],
      "id": "6b16dd4b"
    },
    {
      "cell_type": "markdown",
      "metadata": {
        "id": "353e9d24"
      },
      "source": [
        "## **2. Is the conversion rate (the proportion of users who visit the landing page and get converted) for the new page greater than the conversion rate for the old page?**"
      ],
      "id": "353e9d24"
    },
    {
      "cell_type": "markdown",
      "source": [
        "#### Step 0: Perform Visual Analysis"
      ],
      "metadata": {
        "id": "ahgWhB23fx-h"
      },
      "id": "ahgWhB23fx-h"
    },
    {
      "cell_type": "code",
      "source": [
        "# complete the code to visually compare the conversion rate for the new page and the conversion rate for the old page\n",
        "pd.crosstab(df['converted'],df['group'],normalize='index').plot(kind=\"bar\", color=['thistle', 'navy'],figsize=(6,8),stacked=True)\n",
        "plt.legend()\n",
        "plt.show()"
      ],
      "metadata": {
        "colab": {
          "base_uri": "https://localhost:8080/",
          "height": 0
        },
        "id": "n_tLWm4EeqKK",
        "outputId": "f73ee2a5-9c1b-4fa4-8595-af6dbb650013"
      },
      "id": "n_tLWm4EeqKK",
      "execution_count": 364,
      "outputs": [
        {
          "output_type": "display_data",
          "data": {
            "text/plain": [
              "<Figure size 600x800 with 1 Axes>"
            ],
            "image/png": "[encoded data removed]"
          },
          "metadata": {}
        }
      ]
    },
    {
      "cell_type": "markdown",
      "source": [
        "#### Step 1: Define the null and alternate hypotheses"
      ],
      "metadata": {
        "id": "ltLvhuG5d2ew"
      },
      "id": "ltLvhuG5d2ew"
    },
    {
      "cell_type": "markdown",
      "source": [
        "$H_0$:  p_new <= p_old\n",
        "\n",
        "$H_a$:  p_new > p_old\n",
        "\n",
        "Where:\n",
        "*   p_new is the population conversion rate for the new landing page.\n",
        "*   p_old is the population conversion rate for the old landing page.\n",
        "\n"
      ],
      "metadata": {
        "id": "U8euZBVBt9qI"
      },
      "id": "U8euZBVBt9qI"
    },
    {
      "cell_type": "markdown",
      "source": [
        "#### Step 2: Select Appropriate test"
      ],
      "metadata": {
        "id": "IpHWzBt0eIBa"
      },
      "id": "IpHWzBt0eIBa"
    },
    {
      "cell_type": "markdown",
      "source": [
        "This is a one-tailed test concerning two population proportions from two independent populations.\n",
        "\n",
        "    The appropriate test would be a two proportion Z-Test."
      ],
      "metadata": {
        "id": "sOuIUGZE54ZL"
      },
      "id": "sOuIUGZE54ZL"
    },
    {
      "cell_type": "markdown",
      "source": [
        "#### Step 3: Decide the significance level"
      ],
      "metadata": {
        "id": "bICKS9Oehyns"
      },
      "id": "bICKS9Oehyns"
    },
    {
      "cell_type": "markdown",
      "source": [
        "\n",
        "    The problen statement gave us an assigned significance level of alpha = 0.05."
      ],
      "metadata": {
        "id": "wbdEoX_GsD1B"
      },
      "id": "wbdEoX_GsD1B"
    },
    {
      "cell_type": "markdown",
      "source": [
        "#### Step 4: Collect and prepare data"
      ],
      "metadata": {
        "id": "4z2oYvZSh4Zr"
      },
      "id": "4z2oYvZSh4Zr"
    },
    {
      "cell_type": "code",
      "source": [
        "new_converted = df[df['group'] == 'treatment']['converted'].value_counts()['yes']\n",
        "old_converted = df[df['group'] == 'control']['converted'].value_counts()['yes']\n",
        "n_control = df.group.value_counts()['control']\n",
        "n_treatment = df.group.value_counts()['treatment']\n",
        "print('The numbers of users served the new and old pages are {0} and {1} respectively'.format(n_control, n_treatment ))"
      ],
      "metadata": {
        "colab": {
          "base_uri": "https://localhost:8080/"
        },
        "id": "kJgUkzccsGgY",
        "outputId": "b9139805-aa6a-4d5e-fdcb-d29ebb0d505f"
      },
      "id": "kJgUkzccsGgY",
      "execution_count": 365,
      "outputs": [
        {
          "output_type": "stream",
          "name": "stdout",
          "text": [
            "The numbers of users served the new and old pages are 50 and 50 respectively\n"
          ]
        }
      ]
    },
    {
      "cell_type": "markdown",
      "source": [
        "#### Step 5: Calculate the p-value"
      ],
      "metadata": {
        "id": "BaDMoyFeh9AR"
      },
      "id": "BaDMoyFeh9AR"
    },
    {
      "cell_type": "code",
      "source": [
        "from statsmodels.stats.proportion import proportions_ztest\n",
        "test_stat, p_value = proportions_ztest([new_converted, old_converted] , [n_treatment, n_control], alternative ='larger')\n",
        "print('The p-value is', p_value)"
      ],
      "metadata": {
        "colab": {
          "base_uri": "https://localhost:8080/"
        },
        "id": "ZzbWPRsBsJnG",
        "outputId": "8ea5e91b-724c-4795-9fe0-dc087c10fb16"
      },
      "id": "ZzbWPRsBsJnG",
      "execution_count": 366,
      "outputs": [
        {
          "output_type": "stream",
          "name": "stdout",
          "text": [
            "The p-value is 0.008026308204056278\n"
          ]
        }
      ]
    },
    {
      "cell_type": "markdown",
      "source": [
        "#### Step 6: Compare the p-value with $\\alpha$"
      ],
      "metadata": {
        "id": "HynJWZ4piDYl"
      },
      "id": "HynJWZ4piDYl"
    },
    {
      "cell_type": "markdown",
      "source": [
        "\n",
        "    Since the p value is less than the 0.05 level of significance, we will reject the null hypothesis."
      ],
      "metadata": {
        "id": "PIGwgkJehDF2"
      },
      "id": "PIGwgkJehDF2"
    },
    {
      "cell_type": "code",
      "source": [
        "if p_value < 0.05:\n",
        "    print(f'As the p-value {p_value} is less than the level of significance, we reject the null hypothesis.')\n",
        "else:\n",
        "    print(f'As the p-value {p_value} is greater than the level of significance, we fail to reject the null hypothesis.')"
      ],
      "metadata": {
        "colab": {
          "base_uri": "https://localhost:8080/"
        },
        "id": "csS1wLRksMVq",
        "outputId": "d20f739d-8a6d-424e-95d1-600825cb3bd9"
      },
      "id": "csS1wLRksMVq",
      "execution_count": 367,
      "outputs": [
        {
          "output_type": "stream",
          "name": "stdout",
          "text": [
            "As the p-value 0.008026308204056278 is less than the level of significance, we reject the null hypothesis.\n"
          ]
        }
      ]
    },
    {
      "cell_type": "markdown",
      "source": [
        "#### Step 7:  Draw inference"
      ],
      "metadata": {
        "id": "-TgMlwFyiHjz"
      },
      "id": "-TgMlwFyiHjz"
    },
    {
      "cell_type": "markdown",
      "source": [
        "Since we get to reject the null hypothesis we can say that given the p value of 0.00802, the conversion for the new page is greater than the conversion for the old page."
      ],
      "metadata": {
        "id": "m3SXwqZww55C"
      },
      "id": "m3SXwqZww55C"
    },
    {
      "cell_type": "markdown",
      "metadata": {
        "id": "d49bfa2d"
      },
      "source": [
        "## **3. Is the conversion and preferred language are independent or related?**"
      ],
      "id": "d49bfa2d"
    },
    {
      "cell_type": "markdown",
      "source": [
        "#### Step 0: Perform Visual Analysis"
      ],
      "metadata": {
        "id": "2hGYydIdfzLX"
      },
      "id": "2hGYydIdfzLX"
    },
    {
      "cell_type": "code",
      "source": [
        "pd.crosstab(df['converted'],df['language_preferred'],normalize='index').plot(kind=\"bar\",color=['thistle', 'navy', 'pink'], figsize=(6,8), stacked=True)\n",
        "plt.legend()\n",
        "plt.show()"
      ],
      "metadata": {
        "id": "mcjRnJ9WsRHw",
        "colab": {
          "base_uri": "https://localhost:8080/",
          "height": 0
        },
        "outputId": "6c66d065-9095-41c9-effd-9f1edd0470f6"
      },
      "id": "mcjRnJ9WsRHw",
      "execution_count": 368,
      "outputs": [
        {
          "output_type": "display_data",
          "data": {
            "text/plain": [
              "<Figure size 600x800 with 1 Axes>"
            ],
            "image/png": "[encoded data removed]"
          },
          "metadata": {}
        }
      ]
    },
    {
      "cell_type": "markdown",
      "source": [
        "#### Step 1: Define the null and alternate hypotheses"
      ],
      "metadata": {
        "id": "Skj3M50wd3Af"
      },
      "id": "Skj3M50wd3Af"
    },
    {
      "cell_type": "markdown",
      "source": [
        "$H_0$:Conversion and preferred language are independent (no association)\n",
        "\n",
        "$H_a$:Conversion and preferred language are dependent (association exists)\n"
      ],
      "metadata": {
        "id": "lFFWNLi7t_1k"
      },
      "id": "lFFWNLi7t_1k"
    },
    {
      "cell_type": "markdown",
      "source": [
        "#### Step 2: Select Appropriate test"
      ],
      "metadata": {
        "id": "33dVtqiD22K4"
      },
      "id": "33dVtqiD22K4"
    },
    {
      "cell_type": "markdown",
      "source": [
        "This is a problem of the test of independence, concerning two categorical variables - converted status and preferred language.\n",
        "\n",
        "    The appropriate test would be the Chi Square Test."
      ],
      "metadata": {
        "id": "0qeykJ0m2pcM"
      },
      "id": "0qeykJ0m2pcM"
    },
    {
      "cell_type": "markdown",
      "source": [
        "#### Step 3: Decide the significance level"
      ],
      "metadata": {
        "id": "DgopsSQFh0H-"
      },
      "id": "DgopsSQFh0H-"
    },
    {
      "cell_type": "markdown",
      "source": [
        "\n",
        "    The problen statement gave us an assigned significance level of alpha = 0.05."
      ],
      "metadata": {
        "id": "Amkyb14PsYke"
      },
      "id": "Amkyb14PsYke"
    },
    {
      "cell_type": "markdown",
      "source": [
        "#### Step 4: Collect and prepare data"
      ],
      "metadata": {
        "id": "OBnpzQxQh4_D"
      },
      "id": "OBnpzQxQh4_D"
    },
    {
      "cell_type": "code",
      "source": [
        "contingency_table = pd.crosstab(df['converted'], df['language_preferred'])\n",
        "\n",
        "contingency_table"
      ],
      "metadata": {
        "id": "H6l2xKgXseHS",
        "colab": {
          "base_uri": "https://localhost:8080/",
          "height": 0
        },
        "outputId": "a10042ab-6d82-47ff-80d1-3109a4868005"
      },
      "id": "H6l2xKgXseHS",
      "execution_count": 369,
      "outputs": [
        {
          "output_type": "execute_result",
          "data": {
            "text/plain": [
              "language_preferred  English  French  Spanish\n",
              "converted                                   \n",
              "no                       11      19       16\n",
              "yes                      21      15       18"
            ],
            "text/html": [
              "\n",
              "  <div id=\"df-86ffe085-92cb-4d9d-bd9c-2204b0bfb3b9\" class=\"colab-df-container\">\n",
              "    <div>\n",
              "<style scoped>\n",
              "    .dataframe tbody tr th:only-of-type {\n",
              "        vertical-align: middle;\n",
              "    }\n",
              "\n",
              "    .dataframe tbody tr th {\n",
              "        vertical-align: top;\n",
              "    }\n",
              "\n",
              "    .dataframe thead th {\n",
              "        text-align: right;\n",
              "    }\n",
              "</style>\n",
              "<table border=\"1\" class=\"dataframe\">\n",
              "  <thead>\n",
              "    <tr style=\"text-align: right;\">\n",
              "      <th>language_preferred</th>\n",
              "      <th>English</th>\n",
              "      <th>French</th>\n",
              "      <th>Spanish</th>\n",
              "    </tr>\n",
              "    <tr>\n",
              "      <th>converted</th>\n",
              "      <th></th>\n",
              "      <th></th>\n",
              "      <th></th>\n",
              "    </tr>\n",
              "  </thead>\n",
              "  <tbody>\n",
              "    <tr>\n",
              "      <th>no</th>\n",
              "      <td>11</td>\n",
              "      <td>19</td>\n",
              "      <td>16</td>\n",
              "    </tr>\n",
              "    <tr>\n",
              "      <th>yes</th>\n",
              "      <td>21</td>\n",
              "      <td>15</td>\n",
              "      <td>18</td>\n",
              "    </tr>\n",
              "  </tbody>\n",
              "</table>\n",
              "</div>\n",
              "    <div class=\"colab-df-buttons\">\n",
              "\n",
              "  <div class=\"colab-df-container\">\n",
              "    <button class=\"colab-df-convert\" onclick=\"convertToInteractive('df-86ffe085-92cb-4d9d-bd9c-2204b0bfb3b9')\"\n",
              "            title=\"Convert this dataframe to an interactive table.\"\n",
              "            style=\"display:none;\">\n",
              "\n",
              "  <svg xmlns=\"http://www.w3.org/2000/svg\" height=\"24px\" viewBox=\"0 -960 960 960\">\n",
              "    <path d=\"M120-120v-720h720v720H120Zm60-500h600v-160H180v160Zm220 220h160v-160H400v160Zm0 220h160v-160H400v160ZM180-400h160v-160H180v160Zm440 0h160v-160H620v160ZM180-180h160v-160H180v160Zm440 0h160v-160H620v160Z\"/>\n",
              "  </svg>\n",
              "    </button>\n",
              "\n",
              "  <style>\n",
              "    .colab-df-container {\n",
              "      display:flex;\n",
              "      gap: 12px;\n",
              "    }\n",
              "\n",
              "    .colab-df-convert {\n",
              "      background-color: #E8F0FE;\n",
              "      border: none;\n",
              "      border-radius: 50%;\n",
              "      cursor: pointer;\n",
              "      display: none;\n",
              "      fill: #1967D2;\n",
              "      height: 32px;\n",
              "      padding: 0 0 0 0;\n",
              "      width: 32px;\n",
              "    }\n",
              "\n",
              "    .colab-df-convert:hover {\n",
              "      background-color: #E2EBFA;\n",
              "      box-shadow: 0px 1px 2px rgba(60, 64, 67, 0.3), 0px 1px 3px 1px rgba(60, 64, 67, 0.15);\n",
              "      fill: #174EA6;\n",
              "    }\n",
              "\n",
              "    .colab-df-buttons div {\n",
              "      margin-bottom: 4px;\n",
              "    }\n",
              "\n",
              "    [theme=dark] .colab-df-convert {\n",
              "      background-color: #3B4455;\n",
              "      fill: #D2E3FC;\n",
              "    }\n",
              "\n",
              "    [theme=dark] .colab-df-convert:hover {\n",
              "      background-color: #434B5C;\n",
              "      box-shadow: 0px 1px 3px 1px rgba(0, 0, 0, 0.15);\n",
              "      filter: drop-shadow(0px 1px 2px rgba(0, 0, 0, 0.3));\n",
              "      fill: #FFFFFF;\n",
              "    }\n",
              "  </style>\n",
              "\n",
              "    <script>\n",
              "      const buttonEl =\n",
              "        document.querySelector('#df-86ffe085-92cb-4d9d-bd9c-2204b0bfb3b9 button.colab-df-convert');\n",
              "      buttonEl.style.display =\n",
              "        google.colab.kernel.accessAllowed ? 'block' : 'none';\n",
              "\n",
              "      async function convertToInteractive(key) {\n",
              "        const element = document.querySelector('#df-86ffe085-92cb-4d9d-bd9c-2204b0bfb3b9');\n",
              "        const dataTable =\n",
              "          await google.colab.kernel.invokeFunction('convertToInteractive',\n",
              "                                                    [key], {});\n",
              "        if (!dataTable) return;\n",
              "\n",
              "        const docLinkHtml = 'Like what you see? Visit the ' +\n",
              "          '<a target=\"_blank\" href=https://colab.research.google.com/notebooks/data_table.ipynb>data table notebook</a>'\n",
              "          + ' to learn more about interactive tables.';\n",
              "        element.innerHTML = '';\n",
              "        dataTable['output_type'] = 'display_data';\n",
              "        await google.colab.output.renderOutput(dataTable, element);\n",
              "        const docLink = document.createElement('div');\n",
              "        docLink.innerHTML = docLinkHtml;\n",
              "        element.appendChild(docLink);\n",
              "      }\n",
              "    </script>\n",
              "  </div>\n",
              "\n",
              "\n",
              "<div id=\"df-2c28cf9b-8071-4523-86bf-310bf6510a89\">\n",
              "  <button class=\"colab-df-quickchart\" onclick=\"quickchart('df-2c28cf9b-8071-4523-86bf-310bf6510a89')\"\n",
              "            title=\"Suggest charts\"\n",
              "            style=\"display:none;\">\n",
              "\n",
              "<svg xmlns=\"http://www.w3.org/2000/svg\" height=\"24px\"viewBox=\"0 0 24 24\"\n",
              "     width=\"24px\">\n",
              "    <g>\n",
              "        <path d=\"M19 3H5c-1.1 0-2 .9-2 2v14c0 1.1.9 2 2 2h14c1.1 0 2-.9 2-2V5c0-1.1-.9-2-2-2zM9 17H7v-7h2v7zm4 0h-2V7h2v10zm4 0h-2v-4h2v4z\"/>\n",
              "    </g>\n",
              "</svg>\n",
              "  </button>\n",
              "\n",
              "<style>\n",
              "  .colab-df-quickchart {\n",
              "      --bg-color: #E8F0FE;\n",
              "      --fill-color: #1967D2;\n",
              "      --hover-bg-color: #E2EBFA;\n",
              "      --hover-fill-color: #174EA6;\n",
              "      --disabled-fill-color: #AAA;\n",
              "      --disabled-bg-color: #DDD;\n",
              "  }\n",
              "\n",
              "  [theme=dark] .colab-df-quickchart {\n",
              "      --bg-color: #3B4455;\n",
              "      --fill-color: #D2E3FC;\n",
              "      --hover-bg-color: #434B5C;\n",
              "      --hover-fill-color: #FFFFFF;\n",
              "      --disabled-bg-color: #3B4455;\n",
              "      --disabled-fill-color: #666;\n",
              "  }\n",
              "\n",
              "  .colab-df-quickchart {\n",
              "    background-color: var(--bg-color);\n",
              "    border: none;\n",
              "    border-radius: 50%;\n",
              "    cursor: pointer;\n",
              "    display: none;\n",
              "    fill: var(--fill-color);\n",
              "    height: 32px;\n",
              "    padding: 0;\n",
              "    width: 32px;\n",
              "  }\n",
              "\n",
              "  .colab-df-quickchart:hover {\n",
              "    background-color: var(--hover-bg-color);\n",
              "    box-shadow: 0 1px 2px rgba(60, 64, 67, 0.3), 0 1px 3px 1px rgba(60, 64, 67, 0.15);\n",
              "    fill: var(--button-hover-fill-color);\n",
              "  }\n",
              "\n",
              "  .colab-df-quickchart-complete:disabled,\n",
              "  .colab-df-quickchart-complete:disabled:hover {\n",
              "    background-color: var(--disabled-bg-color);\n",
              "    fill: var(--disabled-fill-color);\n",
              "    box-shadow: none;\n",
              "  }\n",
              "\n",
              "  .colab-df-spinner {\n",
              "    border: 2px solid var(--fill-color);\n",
              "    border-color: transparent;\n",
              "    border-bottom-color: var(--fill-color);\n",
              "    animation:\n",
              "      spin 1s steps(1) infinite;\n",
              "  }\n",
              "\n",
              "  @keyframes spin {\n",
              "    0% {\n",
              "      border-color: transparent;\n",
              "      border-bottom-color: var(--fill-color);\n",
              "      border-left-color: var(--fill-color);\n",
              "    }\n",
              "    20% {\n",
              "      border-color: transparent;\n",
              "      border-left-color: var(--fill-color);\n",
              "      border-top-color: var(--fill-color);\n",
              "    }\n",
              "    30% {\n",
              "      border-color: transparent;\n",
              "      border-left-color: var(--fill-color);\n",
              "      border-top-color: var(--fill-color);\n",
              "      border-right-color: var(--fill-color);\n",
              "    }\n",
              "    40% {\n",
              "      border-color: transparent;\n",
              "      border-right-color: var(--fill-color);\n",
              "      border-top-color: var(--fill-color);\n",
              "    }\n",
              "    60% {\n",
              "      border-color: transparent;\n",
              "      border-right-color: var(--fill-color);\n",
              "    }\n",
              "    80% {\n",
              "      border-color: transparent;\n",
              "      border-right-color: var(--fill-color);\n",
              "      border-bottom-color: var(--fill-color);\n",
              "    }\n",
              "    90% {\n",
              "      border-color: transparent;\n",
              "      border-bottom-color: var(--fill-color);\n",
              "    }\n",
              "  }\n",
              "</style>\n",
              "\n",
              "  <script>\n",
              "    async function quickchart(key) {\n",
              "      const quickchartButtonEl =\n",
              "        document.querySelector('#' + key + ' button');\n",
              "      quickchartButtonEl.disabled = true;  // To prevent multiple clicks.\n",
              "      quickchartButtonEl.classList.add('colab-df-spinner');\n",
              "      try {\n",
              "        const charts = await google.colab.kernel.invokeFunction(\n",
              "            'suggestCharts', [key], {});\n",
              "      } catch (error) {\n",
              "        console.error('Error during call to suggestCharts:', error);\n",
              "      }\n",
              "      quickchartButtonEl.classList.remove('colab-df-spinner');\n",
              "      quickchartButtonEl.classList.add('colab-df-quickchart-complete');\n",
              "    }\n",
              "    (() => {\n",
              "      let quickchartButtonEl =\n",
              "        document.querySelector('#df-2c28cf9b-8071-4523-86bf-310bf6510a89 button');\n",
              "      quickchartButtonEl.style.display =\n",
              "        google.colab.kernel.accessAllowed ? 'block' : 'none';\n",
              "    })();\n",
              "  </script>\n",
              "</div>\n",
              "\n",
              "  <div id=\"id_b62cf9cc-6ba1-418c-9280-59d4f7d38334\">\n",
              "    <style>\n",
              "      .colab-df-generate {\n",
              "        background-color: #E8F0FE;\n",
              "        border: none;\n",
              "        border-radius: 50%;\n",
              "        cursor: pointer;\n",
              "        display: none;\n",
              "        fill: #1967D2;\n",
              "        height: 32px;\n",
              "        padding: 0 0 0 0;\n",
              "        width: 32px;\n",
              "      }\n",
              "\n",
              "      .colab-df-generate:hover {\n",
              "        background-color: #E2EBFA;\n",
              "        box-shadow: 0px 1px 2px rgba(60, 64, 67, 0.3), 0px 1px 3px 1px rgba(60, 64, 67, 0.15);\n",
              "        fill: #174EA6;\n",
              "      }\n",
              "\n",
              "      [theme=dark] .colab-df-generate {\n",
              "        background-color: #3B4455;\n",
              "        fill: #D2E3FC;\n",
              "      }\n",
              "\n",
              "      [theme=dark] .colab-df-generate:hover {\n",
              "        background-color: #434B5C;\n",
              "        box-shadow: 0px 1px 3px 1px rgba(0, 0, 0, 0.15);\n",
              "        filter: drop-shadow(0px 1px 2px rgba(0, 0, 0, 0.3));\n",
              "        fill: #FFFFFF;\n",
              "      }\n",
              "    </style>\n",
              "    <button class=\"colab-df-generate\" onclick=\"generateWithVariable('contingency_table')\"\n",
              "            title=\"Generate code using this dataframe.\"\n",
              "            style=\"display:none;\">\n",
              "\n",
              "  <svg xmlns=\"http://www.w3.org/2000/svg\" height=\"24px\"viewBox=\"0 0 24 24\"\n",
              "       width=\"24px\">\n",
              "    <path d=\"M7,19H8.4L18.45,9,17,7.55,7,17.6ZM5,21V16.75L18.45,3.32a2,2,0,0,1,2.83,0l1.4,1.43a1.91,1.91,0,0,1,.58,1.4,1.91,1.91,0,0,1-.58,1.4L9.25,21ZM18.45,9,17,7.55Zm-12,3A5.31,5.31,0,0,0,4.9,8.1,5.31,5.31,0,0,0,1,6.5,5.31,5.31,0,0,0,4.9,4.9,5.31,5.31,0,0,0,6.5,1,5.31,5.31,0,0,0,8.1,4.9,5.31,5.31,0,0,0,12,6.5,5.46,5.46,0,0,0,6.5,12Z\"/>\n",
              "  </svg>\n",
              "    </button>\n",
              "    <script>\n",
              "      (() => {\n",
              "      const buttonEl =\n",
              "        document.querySelector('#id_b62cf9cc-6ba1-418c-9280-59d4f7d38334 button.colab-df-generate');\n",
              "      buttonEl.style.display =\n",
              "        google.colab.kernel.accessAllowed ? 'block' : 'none';\n",
              "\n",
              "      buttonEl.onclick = () => {\n",
              "        google.colab.notebook.generateWithVariable('contingency_table');\n",
              "      }\n",
              "      })();\n",
              "    </script>\n",
              "  </div>\n",
              "\n",
              "    </div>\n",
              "  </div>\n"
            ],
            "application/vnd.google.colaboratory.intrinsic+json": {
              "type": "dataframe",
              "variable_name": "contingency_table",
              "summary": "{\n  \"name\": \"contingency_table\",\n  \"rows\": 2,\n  \"fields\": [\n    {\n      \"column\": \"converted\",\n      \"properties\": {\n        \"dtype\": \"string\",\n        \"num_unique_values\": 2,\n        \"samples\": [\n          \"yes\",\n          \"no\"\n        ],\n        \"semantic_type\": \"\",\n        \"description\": \"\"\n      }\n    },\n    {\n      \"column\": \"English\",\n      \"properties\": {\n        \"dtype\": \"number\",\n        \"std\": 7,\n        \"min\": 11,\n        \"max\": 21,\n        \"num_unique_values\": 2,\n        \"samples\": [\n          21,\n          11\n        ],\n        \"semantic_type\": \"\",\n        \"description\": \"\"\n      }\n    },\n    {\n      \"column\": \"French\",\n      \"properties\": {\n        \"dtype\": \"number\",\n        \"std\": 2,\n        \"min\": 15,\n        \"max\": 19,\n        \"num_unique_values\": 2,\n        \"samples\": [\n          15,\n          19\n        ],\n        \"semantic_type\": \"\",\n        \"description\": \"\"\n      }\n    },\n    {\n      \"column\": \"Spanish\",\n      \"properties\": {\n        \"dtype\": \"number\",\n        \"std\": 1,\n        \"min\": 16,\n        \"max\": 18,\n        \"num_unique_values\": 2,\n        \"samples\": [\n          18,\n          16\n        ],\n        \"semantic_type\": \"\",\n        \"description\": \"\"\n      }\n    }\n  ]\n}"
            }
          },
          "metadata": {},
          "execution_count": 369
        }
      ]
    },
    {
      "cell_type": "markdown",
      "source": [
        "#### Step 5: Calculate the p-value"
      ],
      "metadata": {
        "id": "VprLiINph9vT"
      },
      "id": "VprLiINph9vT"
    },
    {
      "cell_type": "code",
      "source": [
        "from scipy.stats import chi2_contingency\n",
        "chi2, p_value, dof, exp_freq = chi2_contingency(contingency_table)\n",
        "print('The p-value is', p_value)"
      ],
      "metadata": {
        "id": "IEVQFbB2skA8",
        "colab": {
          "base_uri": "https://localhost:8080/"
        },
        "outputId": "3aaf9453-af2b-4000-b299-f2d154cd7dd5"
      },
      "id": "IEVQFbB2skA8",
      "execution_count": 370,
      "outputs": [
        {
          "output_type": "stream",
          "name": "stdout",
          "text": [
            "The p-value is 0.21298887487543447\n"
          ]
        }
      ]
    },
    {
      "cell_type": "markdown",
      "source": [
        "#### Step 6: Compare the p-value with $\\alpha$"
      ],
      "metadata": {
        "id": "XEfjpN1LiD45"
      },
      "id": "XEfjpN1LiD45"
    },
    {
      "cell_type": "markdown",
      "source": [],
      "metadata": {
        "id": "wayOYWkesq4a"
      },
      "id": "wayOYWkesq4a"
    },
    {
      "cell_type": "code",
      "source": [
        "if p_value < 0.05:\n",
        "    print(f'As the p-value {p_value} is less than the level of significance, we reject the null hypothesis.')\n",
        "else:\n",
        "    print(f'As the p-value {p_value} is greater than the level of significance, we fail to reject the null hypothesis.')"
      ],
      "metadata": {
        "id": "e3mnuwgnsk2x",
        "colab": {
          "base_uri": "https://localhost:8080/"
        },
        "outputId": "d85363af-2760-4449-fde4-d4c765033056"
      },
      "id": "e3mnuwgnsk2x",
      "execution_count": 371,
      "outputs": [
        {
          "output_type": "stream",
          "name": "stdout",
          "text": [
            "As the p-value 0.21298887487543447 is greater than the level of significance, we fail to reject the null hypothesis.\n"
          ]
        }
      ]
    },
    {
      "cell_type": "markdown",
      "source": [
        "#### Step 7:  Draw inference\n",
        "\n",
        "Since we failed to reject the null hypothesis we can safely say that the conversion rate and the preferred language do have some relation in our collected data."
      ],
      "metadata": {
        "id": "jGFJXb4_iIgS"
      },
      "id": "jGFJXb4_iIgS"
    },
    {
      "cell_type": "markdown",
      "metadata": {
        "id": "8d585a90"
      },
      "source": [
        "##**4. Is the time spent on the new page same for the different language users?**"
      ],
      "id": "8d585a90"
    },
    {
      "cell_type": "markdown",
      "source": [
        "#### Step 0: Perform Visual Analysis"
      ],
      "metadata": {
        "id": "6QmHbarAfz3t"
      },
      "id": "6QmHbarAfz3t"
    },
    {
      "cell_type": "code",
      "source": [
        "df_new = df[df['landing_page'] == 'new']\n",
        "plt.figure(figsize=(8,8))\n",
        "sns.boxplot(x = 'language_preferred', y ='time_spent_on_the_page',color='thistle', showmeans = True, data = df_new)\n",
        "plt.show()\n",
        "df_new.groupby(['language_preferred'])['time_spent_on_the_page'].mean()"
      ],
      "metadata": {
        "id": "cmtecJ_At83k",
        "colab": {
          "base_uri": "https://localhost:8080/",
          "height": 0
        },
        "outputId": "8c470b48-549a-4375-d327-a7d2ed59fb1a"
      },
      "id": "cmtecJ_At83k",
      "execution_count": 372,
      "outputs": [
        {
          "output_type": "display_data",
          "data": {
            "text/plain": [
              "<Figure size 800x800 with 1 Axes>"
            ],
            "image/png": "[encoded data removed]"
          },
          "metadata": {}
        },
        {
          "output_type": "execute_result",
          "data": {
            "text/plain": [
              "language_preferred\n",
              "English    6.663750\n",
              "French     6.196471\n",
              "Spanish    5.835294\n",
              "Name: time_spent_on_the_page, dtype: float64"
            ]
          },
          "metadata": {},
          "execution_count": 372
        }
      ]
    },
    {
      "cell_type": "markdown",
      "source": [
        "#### Step 1: Define the null and alternate hypotheses"
      ],
      "metadata": {
        "id": "WbvGp6rud3U3"
      },
      "id": "WbvGp6rud3U3"
    },
    {
      "cell_type": "markdown",
      "source": [
        "$H_0$:   μ_1=μ_2=μ_3\n",
        "\n",
        "$H_a$:  at least one language has a mean time spent on the page that differs among users of different languages."
      ],
      "metadata": {
        "id": "3-MGovTUuBvY"
      },
      "id": "3-MGovTUuBvY"
    },
    {
      "cell_type": "markdown",
      "source": [
        "#### Step 2: Select Appropriate test"
      ],
      "metadata": {
        "id": "b3R3BKuweMVx"
      },
      "id": "b3R3BKuweMVx"
    },
    {
      "cell_type": "markdown",
      "source": [
        "This is a problem, concerning three population means.\n",
        "\n",
        "    Therefore the appropriate test is the one-way Anova F-Test."
      ],
      "metadata": {
        "id": "-AQkgND9D4In"
      },
      "id": "-AQkgND9D4In"
    },
    {
      "cell_type": "markdown",
      "source": [
        "#### Step 3: Decide the significance level"
      ],
      "metadata": {
        "id": "3X64CpTYh01e"
      },
      "id": "3X64CpTYh01e"
    },
    {
      "cell_type": "markdown",
      "source": [
        "\n",
        "    The problen statement gave us an assigned significance level of alpha = 0.05."
      ],
      "metadata": {
        "id": "sVLrl2K0uC_0"
      },
      "id": "sVLrl2K0uC_0"
    },
    {
      "cell_type": "markdown",
      "source": [
        "#### Step 4: Collect and prepare data"
      ],
      "metadata": {
        "id": "PQjYyrYLh5uP"
      },
      "id": "PQjYyrYLh5uP"
    },
    {
      "cell_type": "code",
      "source": [
        "time_spent_English = df_new[df_new['language_preferred']==\"English\"]['time_spent_on_the_page']\n",
        "time_spent_French = df_new[df_new['language_preferred']=='French']['time_spent_on_the_page']   # complete your code here\n",
        "time_spent_Spanish = df_new[df_new['language_preferred']=='Spanish']['time_spent_on_the_page']   # complete your code here"
      ],
      "metadata": {
        "id": "PLD9ziO9uJ1c"
      },
      "id": "PLD9ziO9uJ1c",
      "execution_count": 373,
      "outputs": []
    },
    {
      "cell_type": "markdown",
      "source": [
        "#### Step 5: Calculate the p-value"
      ],
      "metadata": {
        "id": "-zbRfMp-h-YR"
      },
      "id": "-zbRfMp-h-YR"
    },
    {
      "cell_type": "code",
      "source": [
        "from scipy.stats import f_oneway\n",
        "test_stat, p_value = f_oneway(time_spent_English, time_spent_French, time_spent_Spanish)\n",
        "print('The p-value is', p_value)"
      ],
      "metadata": {
        "id": "Ea3fbVhTuL8x",
        "colab": {
          "base_uri": "https://localhost:8080/"
        },
        "outputId": "8aa87ed0-a865-4118-de83-3dee9d084847"
      },
      "id": "Ea3fbVhTuL8x",
      "execution_count": 374,
      "outputs": [
        {
          "output_type": "stream",
          "name": "stdout",
          "text": [
            "The p-value is 0.43204138694325955\n"
          ]
        }
      ]
    },
    {
      "cell_type": "markdown",
      "source": [
        "#### Step 6: Compare the p-value with $\\alpha$"
      ],
      "metadata": {
        "id": "eVI-L3QdiEiN"
      },
      "id": "eVI-L3QdiEiN"
    },
    {
      "cell_type": "code",
      "source": [
        "if p_value < 0.05:\n",
        "    print(f'As the p-value {p_value} is less than the level of significance, we reject the null hypothesis.')\n",
        "else:\n",
        "    print(f'As the p-value {p_value} is greater than the level of significance, we fail to reject the null hypothesis.')"
      ],
      "metadata": {
        "id": "OYRdHvi7uOFi",
        "colab": {
          "base_uri": "https://localhost:8080/"
        },
        "outputId": "0f92ab3e-274f-4446-a536-bf1012c44746"
      },
      "id": "OYRdHvi7uOFi",
      "execution_count": 375,
      "outputs": [
        {
          "output_type": "stream",
          "name": "stdout",
          "text": [
            "As the p-value 0.43204138694325955 is greater than the level of significance, we fail to reject the null hypothesis.\n"
          ]
        }
      ]
    },
    {
      "cell_type": "markdown",
      "source": [
        "#### Step 7:  Draw inference"
      ],
      "metadata": {
        "id": "eSrJ7nodiJvw"
      },
      "id": "eSrJ7nodiJvw"
    },
    {
      "cell_type": "markdown",
      "source": [
        "The alternate hypothesis was at least one of the population means would be different and just by looking at the means in the graph we can see this is true.\n",
        "\n",
        "However, after running the one way Anova F-Test, we failed to reject the null hypothesis and must say that the time spend on the page is not the same for different language users."
      ],
      "metadata": {
        "id": "VtnD3LM_Ixks"
      },
      "id": "VtnD3LM_Ixks"
    },
    {
      "cell_type": "markdown",
      "metadata": {
        "id": "3acbc947"
      },
      "source": [
        "---\n",
        "## **Conclusion and Business Recommendations**\n",
        "---"
      ],
      "id": "3acbc947"
    },
    {
      "cell_type": "markdown",
      "metadata": {
        "id": "21fb1063"
      },
      "source": [
        "**Conclusions**\n",
        "\n",
        "    Answers to the 4 main questions:\n",
        "    *   The users spend more time on the new landing page then the existing landing page.\n",
        "    *   The conversion rate for the new page is higher than the conversion rate for the existing landing page.\n",
        "    *   The conversion rate and the preferred language are related.\n",
        "    *   The time spent on on the new page is different across languages, but the mean is similar.\n",
        "\n",
        "\n",
        "    Additional Conclusions:\n",
        "\n",
        "    *  The average time is around 5.377 minutes per user.\n",
        "    *  We do have more people converting on the new page already so we should see an increase in subscribers once the new page is implemented.\n",
        "    \n"
      ],
      "id": "21fb1063"
    },
    {
      "cell_type": "markdown",
      "source": [
        "**Business Recommendations**\n",
        "\n",
        "    *   Definitely implement the new landing page and keep optimizing it in order to receive more subscribers.\n",
        "    *   We need to look into what's causing a lower conversion rate for the users that selected French as the display language.\n",
        "    *   We could even look at other languages to add if we could also gain subscribers that way.\n",
        "    *   We could do research into what news articles attract the most traffic and keep updating our news outline to adjust for what the audience clicks on. (A live dashboard could be useful for this)\n",
        "    *   We could run sentient analysis to see what kind of news creates emotional responses on the page.\n",
        "    *   We could make it a metric to aim to keep people on the page for at least 2 minutes and see if we have continuous new subscribers if the page has content that could could a user engaged long enough.\n",
        "  \n"
      ],
      "metadata": {
        "id": "ojYLHowpnMic"
      },
      "id": "ojYLHowpnMic"
    },
    {
      "cell_type": "code",
      "source": [],
      "metadata": {
        "id": "93p3sdlibcYe"
      },
      "id": "93p3sdlibcYe",
      "execution_count": 375,
      "outputs": []
    },
    {
      "cell_type": "markdown",
      "source": [
        "___"
      ],
      "metadata": {
        "id": "U0dAd4i0iCHo"
      },
      "id": "U0dAd4i0iCHo"
    }
  ]
}